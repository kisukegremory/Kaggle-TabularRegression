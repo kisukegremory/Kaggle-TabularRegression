{
 "cells": [
  {
   "cell_type": "code",
   "execution_count": 25,
   "metadata": {},
   "outputs": [],
   "source": [
    "import pandas as pd \n",
    "import numpy as np\n",
    "import matplotlib.pyplot as plt\n",
    "import seaborn as sns"
   ]
  },
  {
   "cell_type": "code",
   "execution_count": 9,
   "metadata": {},
   "outputs": [
    {
     "data": {
      "text/html": [
       "<div>\n",
       "<style scoped>\n",
       "    .dataframe tbody tr th:only-of-type {\n",
       "        vertical-align: middle;\n",
       "    }\n",
       "\n",
       "    .dataframe tbody tr th {\n",
       "        vertical-align: top;\n",
       "    }\n",
       "\n",
       "    .dataframe thead th {\n",
       "        text-align: right;\n",
       "    }\n",
       "</style>\n",
       "<table border=\"1\" class=\"dataframe\">\n",
       "  <thead>\n",
       "    <tr style=\"text-align: right;\">\n",
       "      <th></th>\n",
       "      <th>cont1</th>\n",
       "      <th>cont2</th>\n",
       "      <th>cont3</th>\n",
       "      <th>cont4</th>\n",
       "      <th>cont5</th>\n",
       "      <th>cont6</th>\n",
       "      <th>cont7</th>\n",
       "      <th>cont8</th>\n",
       "      <th>cont9</th>\n",
       "      <th>cont10</th>\n",
       "      <th>cont11</th>\n",
       "      <th>cont12</th>\n",
       "      <th>cont13</th>\n",
       "      <th>cont14</th>\n",
       "      <th>target</th>\n",
       "    </tr>\n",
       "    <tr>\n",
       "      <th>id</th>\n",
       "      <th></th>\n",
       "      <th></th>\n",
       "      <th></th>\n",
       "      <th></th>\n",
       "      <th></th>\n",
       "      <th></th>\n",
       "      <th></th>\n",
       "      <th></th>\n",
       "      <th></th>\n",
       "      <th></th>\n",
       "      <th></th>\n",
       "      <th></th>\n",
       "      <th></th>\n",
       "      <th></th>\n",
       "      <th></th>\n",
       "    </tr>\n",
       "  </thead>\n",
       "  <tbody>\n",
       "    <tr>\n",
       "      <th>1</th>\n",
       "      <td>0.670390</td>\n",
       "      <td>0.811300</td>\n",
       "      <td>0.643968</td>\n",
       "      <td>0.291791</td>\n",
       "      <td>0.284117</td>\n",
       "      <td>0.855953</td>\n",
       "      <td>0.890700</td>\n",
       "      <td>0.285542</td>\n",
       "      <td>0.558245</td>\n",
       "      <td>0.779418</td>\n",
       "      <td>0.921832</td>\n",
       "      <td>0.866772</td>\n",
       "      <td>0.878733</td>\n",
       "      <td>0.305411</td>\n",
       "      <td>7.243043</td>\n",
       "    </tr>\n",
       "    <tr>\n",
       "      <th>3</th>\n",
       "      <td>0.388053</td>\n",
       "      <td>0.621104</td>\n",
       "      <td>0.686102</td>\n",
       "      <td>0.501149</td>\n",
       "      <td>0.643790</td>\n",
       "      <td>0.449805</td>\n",
       "      <td>0.510824</td>\n",
       "      <td>0.580748</td>\n",
       "      <td>0.418335</td>\n",
       "      <td>0.432632</td>\n",
       "      <td>0.439872</td>\n",
       "      <td>0.434971</td>\n",
       "      <td>0.369957</td>\n",
       "      <td>0.369484</td>\n",
       "      <td>8.203331</td>\n",
       "    </tr>\n",
       "  </tbody>\n",
       "</table>\n",
       "</div>"
      ],
      "text/plain": [
       "       cont1     cont2     cont3     cont4     cont5     cont6     cont7  \\\n",
       "id                                                                         \n",
       "1   0.670390  0.811300  0.643968  0.291791  0.284117  0.855953  0.890700   \n",
       "3   0.388053  0.621104  0.686102  0.501149  0.643790  0.449805  0.510824   \n",
       "\n",
       "       cont8     cont9    cont10    cont11    cont12    cont13    cont14  \\\n",
       "id                                                                         \n",
       "1   0.285542  0.558245  0.779418  0.921832  0.866772  0.878733  0.305411   \n",
       "3   0.580748  0.418335  0.432632  0.439872  0.434971  0.369957  0.369484   \n",
       "\n",
       "      target  \n",
       "id            \n",
       "1   7.243043  \n",
       "3   8.203331  "
      ]
     },
     "execution_count": 9,
     "metadata": {},
     "output_type": "execute_result"
    }
   ],
   "source": [
    "train = pd.read_csv('data/train.csv')\n",
    "test = pd.read_csv('data/test.csv')\n",
    "df = train.append(test)\n",
    "df.set_index('id',inplace=True)\n",
    "df.head(2)"
   ]
  },
  {
   "cell_type": "markdown",
   "metadata": {},
   "source": [
    "# EDA\n",
    "---"
   ]
  },
  {
   "cell_type": "markdown",
   "metadata": {},
   "source": [
    "There some variables correlated but any of them above 0.9 for other we can deal with it using l1 or l2 penalty"
   ]
  },
  {
   "cell_type": "code",
   "execution_count": 29,
   "metadata": {},
   "outputs": [
    {
     "data": {
      "text/html": [
       "<div>\n",
       "<style scoped>\n",
       "    .dataframe tbody tr th:only-of-type {\n",
       "        vertical-align: middle;\n",
       "    }\n",
       "\n",
       "    .dataframe tbody tr th {\n",
       "        vertical-align: top;\n",
       "    }\n",
       "\n",
       "    .dataframe thead th {\n",
       "        text-align: right;\n",
       "    }\n",
       "</style>\n",
       "<table border=\"1\" class=\"dataframe\">\n",
       "  <thead>\n",
       "    <tr style=\"text-align: right;\">\n",
       "      <th></th>\n",
       "      <th>variable1</th>\n",
       "      <th>variable2</th>\n",
       "      <th>corr</th>\n",
       "      <th>corrabs</th>\n",
       "      <th>varTuple</th>\n",
       "    </tr>\n",
       "  </thead>\n",
       "  <tbody>\n",
       "    <tr>\n",
       "      <th>129</th>\n",
       "      <td>cont10</td>\n",
       "      <td>cont9</td>\n",
       "      <td>0.725733</td>\n",
       "      <td>0.725733</td>\n",
       "      <td>['cont10', 'cont9']</td>\n",
       "    </tr>\n",
       "    <tr>\n",
       "      <th>85</th>\n",
       "      <td>cont11</td>\n",
       "      <td>cont6</td>\n",
       "      <td>0.737542</td>\n",
       "      <td>0.737542</td>\n",
       "      <td>['cont11', 'cont6']</td>\n",
       "    </tr>\n",
       "    <tr>\n",
       "      <th>86</th>\n",
       "      <td>cont12</td>\n",
       "      <td>cont6</td>\n",
       "      <td>0.756768</td>\n",
       "      <td>0.756768</td>\n",
       "      <td>['cont12', 'cont6']</td>\n",
       "    </tr>\n",
       "    <tr>\n",
       "      <th>84</th>\n",
       "      <td>cont10</td>\n",
       "      <td>cont6</td>\n",
       "      <td>0.771422</td>\n",
       "      <td>0.771422</td>\n",
       "      <td>['cont10', 'cont6']</td>\n",
       "    </tr>\n",
       "    <tr>\n",
       "      <th>87</th>\n",
       "      <td>cont13</td>\n",
       "      <td>cont6</td>\n",
       "      <td>0.784373</td>\n",
       "      <td>0.784373</td>\n",
       "      <td>['cont13', 'cont6']</td>\n",
       "    </tr>\n",
       "    <tr>\n",
       "      <th>8</th>\n",
       "      <td>cont9</td>\n",
       "      <td>cont1</td>\n",
       "      <td>0.793965</td>\n",
       "      <td>0.793965</td>\n",
       "      <td>['cont1', 'cont9']</td>\n",
       "    </tr>\n",
       "    <tr>\n",
       "      <th>161</th>\n",
       "      <td>cont12</td>\n",
       "      <td>cont11</td>\n",
       "      <td>0.825740</td>\n",
       "      <td>0.825740</td>\n",
       "      <td>['cont11', 'cont12']</td>\n",
       "    </tr>\n",
       "  </tbody>\n",
       "</table>\n",
       "</div>"
      ],
      "text/plain": [
       "    variable1 variable2      corr   corrabs              varTuple\n",
       "129    cont10     cont9  0.725733  0.725733   ['cont10', 'cont9']\n",
       "85     cont11     cont6  0.737542  0.737542   ['cont11', 'cont6']\n",
       "86     cont12     cont6  0.756768  0.756768   ['cont12', 'cont6']\n",
       "84     cont10     cont6  0.771422  0.771422   ['cont10', 'cont6']\n",
       "87     cont13     cont6  0.784373  0.784373   ['cont13', 'cont6']\n",
       "8       cont9     cont1  0.793965  0.793965    ['cont1', 'cont9']\n",
       "161    cont12    cont11  0.825740  0.825740  ['cont11', 'cont12']"
      ]
     },
     "execution_count": 29,
     "metadata": {},
     "output_type": "execute_result"
    }
   ],
   "source": [
    "corr_analysis = pd.melt(df.corr(),var_name='variable2',value_name='corr',ignore_index=False).reset_index().rename(columns={'index':'variable1'})\n",
    "corr_analysis.query('variable1 != variable2',inplace=True)\n",
    "corr_analysis['corrabs'] = corr_analysis['corr'].abs()\n",
    "corr_analysis['varTuple'] = corr_analysis.apply(lambda x: str(sorted([x['variable1'],x['variable2']])),axis=1)\n",
    "corr_analysis.drop_duplicates([\"varTuple\"],inplace=True)\n",
    "corr_analysis.sort_values(\"corrabs\").tail(7)"
   ]
  },
  {
   "cell_type": "markdown",
   "metadata": {},
   "source": [
    "# Model Development\n",
    "\n",
    "---\n",
    "\n"
   ]
  },
  {
   "cell_type": "markdown",
   "metadata": {},
   "source": [
    "## Feature Engineering 1"
   ]
  },
  {
   "cell_type": "markdown",
   "metadata": {},
   "source": [
    "### Polynomial Features"
   ]
  },
  {
   "cell_type": "code",
   "execution_count": null,
   "metadata": {},
   "outputs": [],
   "source": []
  },
  {
   "cell_type": "markdown",
   "metadata": {},
   "source": [
    "### Multiplied Features"
   ]
  },
  {
   "cell_type": "code",
   "execution_count": null,
   "metadata": {},
   "outputs": [],
   "source": []
  },
  {
   "cell_type": "markdown",
   "metadata": {},
   "source": [
    "## Cross Validation"
   ]
  },
  {
   "cell_type": "markdown",
   "metadata": {},
   "source": [
    "We gonna apply Kfold as our CV strategy "
   ]
  },
  {
   "cell_type": "code",
   "execution_count": 43,
   "metadata": {},
   "outputs": [],
   "source": [
    "from sklearn.model_selection import KFold,GridSearchCV\n",
    "#from sklearn.metrics import "
   ]
  },
  {
   "cell_type": "markdown",
   "metadata": {},
   "source": [
    "## Hyperparameter Tunning"
   ]
  },
  {
   "cell_type": "code",
   "execution_count": 44,
   "metadata": {},
   "outputs": [],
   "source": [
    "from sklearn.linear_model import ridge_regression,LinearRegression,Lasso,ElasticNet"
   ]
  },
  {
   "cell_type": "code",
   "execution_count": 35,
   "metadata": {},
   "outputs": [
    {
     "data": {
      "text/html": [
       "<div>\n",
       "<style scoped>\n",
       "    .dataframe tbody tr th:only-of-type {\n",
       "        vertical-align: middle;\n",
       "    }\n",
       "\n",
       "    .dataframe tbody tr th {\n",
       "        vertical-align: top;\n",
       "    }\n",
       "\n",
       "    .dataframe thead th {\n",
       "        text-align: right;\n",
       "    }\n",
       "</style>\n",
       "<table border=\"1\" class=\"dataframe\">\n",
       "  <thead>\n",
       "    <tr style=\"text-align: right;\">\n",
       "      <th></th>\n",
       "      <th>cont1</th>\n",
       "      <th>cont2</th>\n",
       "      <th>cont3</th>\n",
       "      <th>cont4</th>\n",
       "      <th>cont5</th>\n",
       "      <th>cont6</th>\n",
       "      <th>cont7</th>\n",
       "      <th>cont8</th>\n",
       "      <th>cont9</th>\n",
       "      <th>cont10</th>\n",
       "      <th>cont11</th>\n",
       "      <th>cont12</th>\n",
       "      <th>cont13</th>\n",
       "      <th>cont14</th>\n",
       "      <th>target</th>\n",
       "    </tr>\n",
       "    <tr>\n",
       "      <th>id</th>\n",
       "      <th></th>\n",
       "      <th></th>\n",
       "      <th></th>\n",
       "      <th></th>\n",
       "      <th></th>\n",
       "      <th></th>\n",
       "      <th></th>\n",
       "      <th></th>\n",
       "      <th></th>\n",
       "      <th></th>\n",
       "      <th></th>\n",
       "      <th></th>\n",
       "      <th></th>\n",
       "      <th></th>\n",
       "      <th></th>\n",
       "    </tr>\n",
       "  </thead>\n",
       "  <tbody>\n",
       "    <tr>\n",
       "      <th>1</th>\n",
       "      <td>0.670390</td>\n",
       "      <td>0.811300</td>\n",
       "      <td>0.643968</td>\n",
       "      <td>0.291791</td>\n",
       "      <td>0.284117</td>\n",
       "      <td>0.855953</td>\n",
       "      <td>0.890700</td>\n",
       "      <td>0.285542</td>\n",
       "      <td>0.558245</td>\n",
       "      <td>0.779418</td>\n",
       "      <td>0.921832</td>\n",
       "      <td>0.866772</td>\n",
       "      <td>0.878733</td>\n",
       "      <td>0.305411</td>\n",
       "      <td>7.243043</td>\n",
       "    </tr>\n",
       "    <tr>\n",
       "      <th>3</th>\n",
       "      <td>0.388053</td>\n",
       "      <td>0.621104</td>\n",
       "      <td>0.686102</td>\n",
       "      <td>0.501149</td>\n",
       "      <td>0.643790</td>\n",
       "      <td>0.449805</td>\n",
       "      <td>0.510824</td>\n",
       "      <td>0.580748</td>\n",
       "      <td>0.418335</td>\n",
       "      <td>0.432632</td>\n",
       "      <td>0.439872</td>\n",
       "      <td>0.434971</td>\n",
       "      <td>0.369957</td>\n",
       "      <td>0.369484</td>\n",
       "      <td>8.203331</td>\n",
       "    </tr>\n",
       "    <tr>\n",
       "      <th>4</th>\n",
       "      <td>0.834950</td>\n",
       "      <td>0.227436</td>\n",
       "      <td>0.301584</td>\n",
       "      <td>0.293408</td>\n",
       "      <td>0.606839</td>\n",
       "      <td>0.829175</td>\n",
       "      <td>0.506143</td>\n",
       "      <td>0.558771</td>\n",
       "      <td>0.587603</td>\n",
       "      <td>0.823312</td>\n",
       "      <td>0.567007</td>\n",
       "      <td>0.677708</td>\n",
       "      <td>0.882938</td>\n",
       "      <td>0.303047</td>\n",
       "      <td>7.776091</td>\n",
       "    </tr>\n",
       "    <tr>\n",
       "      <th>5</th>\n",
       "      <td>0.820708</td>\n",
       "      <td>0.160155</td>\n",
       "      <td>0.546887</td>\n",
       "      <td>0.726104</td>\n",
       "      <td>0.282444</td>\n",
       "      <td>0.785108</td>\n",
       "      <td>0.752758</td>\n",
       "      <td>0.823267</td>\n",
       "      <td>0.574466</td>\n",
       "      <td>0.580843</td>\n",
       "      <td>0.769594</td>\n",
       "      <td>0.818143</td>\n",
       "      <td>0.914281</td>\n",
       "      <td>0.279528</td>\n",
       "      <td>6.957716</td>\n",
       "    </tr>\n",
       "    <tr>\n",
       "      <th>8</th>\n",
       "      <td>0.935278</td>\n",
       "      <td>0.421235</td>\n",
       "      <td>0.303801</td>\n",
       "      <td>0.880214</td>\n",
       "      <td>0.665610</td>\n",
       "      <td>0.830131</td>\n",
       "      <td>0.487113</td>\n",
       "      <td>0.604157</td>\n",
       "      <td>0.874658</td>\n",
       "      <td>0.863427</td>\n",
       "      <td>0.983575</td>\n",
       "      <td>0.900464</td>\n",
       "      <td>0.935918</td>\n",
       "      <td>0.435772</td>\n",
       "      <td>7.951046</td>\n",
       "    </tr>\n",
       "    <tr>\n",
       "      <th>...</th>\n",
       "      <td>...</td>\n",
       "      <td>...</td>\n",
       "      <td>...</td>\n",
       "      <td>...</td>\n",
       "      <td>...</td>\n",
       "      <td>...</td>\n",
       "      <td>...</td>\n",
       "      <td>...</td>\n",
       "      <td>...</td>\n",
       "      <td>...</td>\n",
       "      <td>...</td>\n",
       "      <td>...</td>\n",
       "      <td>...</td>\n",
       "      <td>...</td>\n",
       "      <td>...</td>\n",
       "    </tr>\n",
       "    <tr>\n",
       "      <th>499995</th>\n",
       "      <td>0.216974</td>\n",
       "      <td>0.735265</td>\n",
       "      <td>0.648648</td>\n",
       "      <td>0.255387</td>\n",
       "      <td>0.616353</td>\n",
       "      <td>0.345197</td>\n",
       "      <td>0.295718</td>\n",
       "      <td>0.304357</td>\n",
       "      <td>0.314351</td>\n",
       "      <td>0.860504</td>\n",
       "      <td>0.315397</td>\n",
       "      <td>0.247682</td>\n",
       "      <td>0.486542</td>\n",
       "      <td>0.288750</td>\n",
       "      <td>7.385215</td>\n",
       "    </tr>\n",
       "    <tr>\n",
       "      <th>499996</th>\n",
       "      <td>0.545799</td>\n",
       "      <td>0.165139</td>\n",
       "      <td>0.220966</td>\n",
       "      <td>0.190053</td>\n",
       "      <td>0.359362</td>\n",
       "      <td>0.386336</td>\n",
       "      <td>0.365767</td>\n",
       "      <td>0.344217</td>\n",
       "      <td>0.466446</td>\n",
       "      <td>0.454581</td>\n",
       "      <td>0.360251</td>\n",
       "      <td>0.360755</td>\n",
       "      <td>0.292535</td>\n",
       "      <td>0.619984</td>\n",
       "      <td>7.242617</td>\n",
       "    </tr>\n",
       "    <tr>\n",
       "      <th>499997</th>\n",
       "      <td>0.284401</td>\n",
       "      <td>0.841542</td>\n",
       "      <td>0.957585</td>\n",
       "      <td>0.340383</td>\n",
       "      <td>0.396279</td>\n",
       "      <td>0.330376</td>\n",
       "      <td>0.525687</td>\n",
       "      <td>0.260039</td>\n",
       "      <td>0.378174</td>\n",
       "      <td>0.526925</td>\n",
       "      <td>0.491735</td>\n",
       "      <td>0.516629</td>\n",
       "      <td>0.173521</td>\n",
       "      <td>0.714552</td>\n",
       "      <td>9.592487</td>\n",
       "    </tr>\n",
       "    <tr>\n",
       "      <th>499998</th>\n",
       "      <td>0.481900</td>\n",
       "      <td>0.622346</td>\n",
       "      <td>0.540032</td>\n",
       "      <td>0.823118</td>\n",
       "      <td>0.283066</td>\n",
       "      <td>0.434283</td>\n",
       "      <td>0.174342</td>\n",
       "      <td>0.710843</td>\n",
       "      <td>0.358690</td>\n",
       "      <td>0.648272</td>\n",
       "      <td>0.984647</td>\n",
       "      <td>1.001110</td>\n",
       "      <td>0.063956</td>\n",
       "      <td>0.377693</td>\n",
       "      <td>8.207951</td>\n",
       "    </tr>\n",
       "    <tr>\n",
       "      <th>499999</th>\n",
       "      <td>0.486632</td>\n",
       "      <td>0.230090</td>\n",
       "      <td>0.543587</td>\n",
       "      <td>0.263878</td>\n",
       "      <td>0.279118</td>\n",
       "      <td>0.636295</td>\n",
       "      <td>0.472391</td>\n",
       "      <td>0.339654</td>\n",
       "      <td>0.444787</td>\n",
       "      <td>0.636765</td>\n",
       "      <td>0.782196</td>\n",
       "      <td>0.559692</td>\n",
       "      <td>0.762954</td>\n",
       "      <td>0.215539</td>\n",
       "      <td>8.890285</td>\n",
       "    </tr>\n",
       "  </tbody>\n",
       "</table>\n",
       "<p>300000 rows × 15 columns</p>\n",
       "</div>"
      ],
      "text/plain": [
       "           cont1     cont2     cont3     cont4     cont5     cont6     cont7  \\\n",
       "id                                                                             \n",
       "1       0.670390  0.811300  0.643968  0.291791  0.284117  0.855953  0.890700   \n",
       "3       0.388053  0.621104  0.686102  0.501149  0.643790  0.449805  0.510824   \n",
       "4       0.834950  0.227436  0.301584  0.293408  0.606839  0.829175  0.506143   \n",
       "5       0.820708  0.160155  0.546887  0.726104  0.282444  0.785108  0.752758   \n",
       "8       0.935278  0.421235  0.303801  0.880214  0.665610  0.830131  0.487113   \n",
       "...          ...       ...       ...       ...       ...       ...       ...   \n",
       "499995  0.216974  0.735265  0.648648  0.255387  0.616353  0.345197  0.295718   \n",
       "499996  0.545799  0.165139  0.220966  0.190053  0.359362  0.386336  0.365767   \n",
       "499997  0.284401  0.841542  0.957585  0.340383  0.396279  0.330376  0.525687   \n",
       "499998  0.481900  0.622346  0.540032  0.823118  0.283066  0.434283  0.174342   \n",
       "499999  0.486632  0.230090  0.543587  0.263878  0.279118  0.636295  0.472391   \n",
       "\n",
       "           cont8     cont9    cont10    cont11    cont12    cont13    cont14  \\\n",
       "id                                                                             \n",
       "1       0.285542  0.558245  0.779418  0.921832  0.866772  0.878733  0.305411   \n",
       "3       0.580748  0.418335  0.432632  0.439872  0.434971  0.369957  0.369484   \n",
       "4       0.558771  0.587603  0.823312  0.567007  0.677708  0.882938  0.303047   \n",
       "5       0.823267  0.574466  0.580843  0.769594  0.818143  0.914281  0.279528   \n",
       "8       0.604157  0.874658  0.863427  0.983575  0.900464  0.935918  0.435772   \n",
       "...          ...       ...       ...       ...       ...       ...       ...   \n",
       "499995  0.304357  0.314351  0.860504  0.315397  0.247682  0.486542  0.288750   \n",
       "499996  0.344217  0.466446  0.454581  0.360251  0.360755  0.292535  0.619984   \n",
       "499997  0.260039  0.378174  0.526925  0.491735  0.516629  0.173521  0.714552   \n",
       "499998  0.710843  0.358690  0.648272  0.984647  1.001110  0.063956  0.377693   \n",
       "499999  0.339654  0.444787  0.636765  0.782196  0.559692  0.762954  0.215539   \n",
       "\n",
       "          target  \n",
       "id                \n",
       "1       7.243043  \n",
       "3       8.203331  \n",
       "4       7.776091  \n",
       "5       6.957716  \n",
       "8       7.951046  \n",
       "...          ...  \n",
       "499995  7.385215  \n",
       "499996  7.242617  \n",
       "499997  9.592487  \n",
       "499998  8.207951  \n",
       "499999  8.890285  \n",
       "\n",
       "[300000 rows x 15 columns]"
      ]
     },
     "execution_count": 35,
     "metadata": {},
     "output_type": "execute_result"
    }
   ],
   "source": []
  },
  {
   "cell_type": "code",
   "execution_count": 38,
   "metadata": {},
   "outputs": [],
   "source": [
    "#train.set_index('id',inplace=True)\n",
    "test.set_index('id',inplace=True)"
   ]
  },
  {
   "cell_type": "code",
   "execution_count": 37,
   "metadata": {},
   "outputs": [
    {
     "data": {
      "text/plain": [
       "LinearRegression(copy_X=True, fit_intercept=True, n_jobs=None, normalize=False)"
      ]
     },
     "execution_count": 37,
     "metadata": {},
     "output_type": "execute_result"
    }
   ],
   "source": [
    "model = LinearRegression()\n",
    "model.fit(train.drop('target',axis=1),train['target'])"
   ]
  },
  {
   "cell_type": "code",
   "execution_count": null,
   "metadata": {},
   "outputs": [],
   "source": []
  },
  {
   "cell_type": "markdown",
   "metadata": {},
   "source": [
    "## Models"
   ]
  },
  {
   "cell_type": "markdown",
   "metadata": {},
   "source": [
    "We gonna get the results from the models and use them as variables to the next level of the model and drop the others"
   ]
  },
  {
   "cell_type": "code",
   "execution_count": null,
   "metadata": {},
   "outputs": [],
   "source": []
  },
  {
   "cell_type": "markdown",
   "metadata": {},
   "source": [
    "## Feature Engineering 2"
   ]
  },
  {
   "cell_type": "markdown",
   "metadata": {},
   "source": [
    "### Polynomial Features"
   ]
  },
  {
   "cell_type": "code",
   "execution_count": null,
   "metadata": {},
   "outputs": [],
   "source": []
  },
  {
   "cell_type": "markdown",
   "metadata": {},
   "source": [
    "### Multiplied Features"
   ]
  },
  {
   "cell_type": "code",
   "execution_count": null,
   "metadata": {},
   "outputs": [],
   "source": []
  },
  {
   "cell_type": "markdown",
   "metadata": {},
   "source": [
    "## Ensembles"
   ]
  },
  {
   "cell_type": "code",
   "execution_count": null,
   "metadata": {},
   "outputs": [],
   "source": []
  },
  {
   "cell_type": "markdown",
   "metadata": {},
   "source": [
    "## Model Evaluation"
   ]
  },
  {
   "cell_type": "code",
   "execution_count": null,
   "metadata": {},
   "outputs": [],
   "source": [
    "model.predict(test)"
   ]
  },
  {
   "cell_type": "markdown",
   "metadata": {},
   "source": [
    "## Submissions output"
   ]
  },
  {
   "cell_type": "code",
   "execution_count": 42,
   "metadata": {},
   "outputs": [],
   "source": [
    "submissions = pd.DataFrame(model.predict(test),columns=['target'],index=test.index)\n",
    "submissions.reset_index(inplace=True)\n",
    "submissions.to_csv('submissions\\LinearRegression.csv',index=False)"
   ]
  },
  {
   "cell_type": "code",
   "execution_count": null,
   "metadata": {},
   "outputs": [],
   "source": []
  }
 ],
 "metadata": {
  "kernelspec": {
   "display_name": "Python 3",
   "language": "python",
   "name": "python3"
  },
  "language_info": {
   "codemirror_mode": {
    "name": "ipython",
    "version": 3
   },
   "file_extension": ".py",
   "mimetype": "text/x-python",
   "name": "python",
   "nbconvert_exporter": "python",
   "pygments_lexer": "ipython3",
   "version": "3.7.4"
  },
  "toc": {
   "base_numbering": 1,
   "nav_menu": {},
   "number_sections": true,
   "sideBar": true,
   "skip_h1_title": false,
   "title_cell": "Table of Contents",
   "title_sidebar": "Contents",
   "toc_cell": false,
   "toc_position": {},
   "toc_section_display": true,
   "toc_window_display": false
  }
 },
 "nbformat": 4,
 "nbformat_minor": 2
}
