{
 "cells": [
  {
   "cell_type": "code",
   "execution_count": 76,
   "metadata": {},
   "outputs": [],
   "source": [
    "import pandas as pd \n",
    "import numpy as np\n",
    "import matplotlib.pyplot as plt\n",
    "import seaborn as sns\n",
    "import warnings\n",
    "warnings.filterwarnings('ignore')"
   ]
  },
  {
   "cell_type": "code",
   "execution_count": 77,
   "metadata": {},
   "outputs": [
    {
     "data": {
      "text/html": [
       "<div>\n",
       "<style scoped>\n",
       "    .dataframe tbody tr th:only-of-type {\n",
       "        vertical-align: middle;\n",
       "    }\n",
       "\n",
       "    .dataframe tbody tr th {\n",
       "        vertical-align: top;\n",
       "    }\n",
       "\n",
       "    .dataframe thead th {\n",
       "        text-align: right;\n",
       "    }\n",
       "</style>\n",
       "<table border=\"1\" class=\"dataframe\">\n",
       "  <thead>\n",
       "    <tr style=\"text-align: right;\">\n",
       "      <th></th>\n",
       "      <th>cont1</th>\n",
       "      <th>cont2</th>\n",
       "      <th>cont3</th>\n",
       "      <th>cont4</th>\n",
       "      <th>cont5</th>\n",
       "      <th>cont6</th>\n",
       "      <th>cont7</th>\n",
       "      <th>cont8</th>\n",
       "      <th>cont9</th>\n",
       "      <th>cont10</th>\n",
       "      <th>cont11</th>\n",
       "      <th>cont12</th>\n",
       "      <th>cont13</th>\n",
       "      <th>cont14</th>\n",
       "      <th>target</th>\n",
       "    </tr>\n",
       "    <tr>\n",
       "      <th>id</th>\n",
       "      <th></th>\n",
       "      <th></th>\n",
       "      <th></th>\n",
       "      <th></th>\n",
       "      <th></th>\n",
       "      <th></th>\n",
       "      <th></th>\n",
       "      <th></th>\n",
       "      <th></th>\n",
       "      <th></th>\n",
       "      <th></th>\n",
       "      <th></th>\n",
       "      <th></th>\n",
       "      <th></th>\n",
       "      <th></th>\n",
       "    </tr>\n",
       "  </thead>\n",
       "  <tbody>\n",
       "    <tr>\n",
       "      <th>1</th>\n",
       "      <td>0.670390</td>\n",
       "      <td>0.811300</td>\n",
       "      <td>0.643968</td>\n",
       "      <td>0.291791</td>\n",
       "      <td>0.284117</td>\n",
       "      <td>0.855953</td>\n",
       "      <td>0.890700</td>\n",
       "      <td>0.285542</td>\n",
       "      <td>0.558245</td>\n",
       "      <td>0.779418</td>\n",
       "      <td>0.921832</td>\n",
       "      <td>0.866772</td>\n",
       "      <td>0.878733</td>\n",
       "      <td>0.305411</td>\n",
       "      <td>7.243043</td>\n",
       "    </tr>\n",
       "    <tr>\n",
       "      <th>3</th>\n",
       "      <td>0.388053</td>\n",
       "      <td>0.621104</td>\n",
       "      <td>0.686102</td>\n",
       "      <td>0.501149</td>\n",
       "      <td>0.643790</td>\n",
       "      <td>0.449805</td>\n",
       "      <td>0.510824</td>\n",
       "      <td>0.580748</td>\n",
       "      <td>0.418335</td>\n",
       "      <td>0.432632</td>\n",
       "      <td>0.439872</td>\n",
       "      <td>0.434971</td>\n",
       "      <td>0.369957</td>\n",
       "      <td>0.369484</td>\n",
       "      <td>8.203331</td>\n",
       "    </tr>\n",
       "  </tbody>\n",
       "</table>\n",
       "</div>"
      ],
      "text/plain": [
       "       cont1     cont2     cont3     cont4     cont5     cont6     cont7  \\\n",
       "id                                                                         \n",
       "1   0.670390  0.811300  0.643968  0.291791  0.284117  0.855953  0.890700   \n",
       "3   0.388053  0.621104  0.686102  0.501149  0.643790  0.449805  0.510824   \n",
       "\n",
       "       cont8     cont9    cont10    cont11    cont12    cont13    cont14  \\\n",
       "id                                                                         \n",
       "1   0.285542  0.558245  0.779418  0.921832  0.866772  0.878733  0.305411   \n",
       "3   0.580748  0.418335  0.432632  0.439872  0.434971  0.369957  0.369484   \n",
       "\n",
       "      target  \n",
       "id            \n",
       "1   7.243043  \n",
       "3   8.203331  "
      ]
     },
     "execution_count": 77,
     "metadata": {},
     "output_type": "execute_result"
    }
   ],
   "source": [
    "train = pd.read_csv('data/train.csv')\n",
    "test = pd.read_csv('data/test.csv')\n",
    "df = train.append(test)\n",
    "df.set_index('id',inplace=True)\n",
    "df.head(2)"
   ]
  },
  {
   "cell_type": "markdown",
   "metadata": {},
   "source": [
    "# EDA\n",
    "---"
   ]
  },
  {
   "cell_type": "markdown",
   "metadata": {},
   "source": [
    "There some variables correlated but any of them above 0.9 for other we can deal with it using l1 or l2 penalty"
   ]
  },
  {
   "cell_type": "code",
   "execution_count": 78,
   "metadata": {},
   "outputs": [
    {
     "data": {
      "text/html": [
       "<div>\n",
       "<style scoped>\n",
       "    .dataframe tbody tr th:only-of-type {\n",
       "        vertical-align: middle;\n",
       "    }\n",
       "\n",
       "    .dataframe tbody tr th {\n",
       "        vertical-align: top;\n",
       "    }\n",
       "\n",
       "    .dataframe thead th {\n",
       "        text-align: right;\n",
       "    }\n",
       "</style>\n",
       "<table border=\"1\" class=\"dataframe\">\n",
       "  <thead>\n",
       "    <tr style=\"text-align: right;\">\n",
       "      <th></th>\n",
       "      <th>variable1</th>\n",
       "      <th>variable2</th>\n",
       "      <th>corr</th>\n",
       "      <th>corrabs</th>\n",
       "      <th>varTuple</th>\n",
       "    </tr>\n",
       "  </thead>\n",
       "  <tbody>\n",
       "    <tr>\n",
       "      <th>129</th>\n",
       "      <td>cont10</td>\n",
       "      <td>cont9</td>\n",
       "      <td>0.725733</td>\n",
       "      <td>0.725733</td>\n",
       "      <td>['cont10', 'cont9']</td>\n",
       "    </tr>\n",
       "    <tr>\n",
       "      <th>85</th>\n",
       "      <td>cont11</td>\n",
       "      <td>cont6</td>\n",
       "      <td>0.737542</td>\n",
       "      <td>0.737542</td>\n",
       "      <td>['cont11', 'cont6']</td>\n",
       "    </tr>\n",
       "    <tr>\n",
       "      <th>86</th>\n",
       "      <td>cont12</td>\n",
       "      <td>cont6</td>\n",
       "      <td>0.756768</td>\n",
       "      <td>0.756768</td>\n",
       "      <td>['cont12', 'cont6']</td>\n",
       "    </tr>\n",
       "    <tr>\n",
       "      <th>84</th>\n",
       "      <td>cont10</td>\n",
       "      <td>cont6</td>\n",
       "      <td>0.771422</td>\n",
       "      <td>0.771422</td>\n",
       "      <td>['cont10', 'cont6']</td>\n",
       "    </tr>\n",
       "    <tr>\n",
       "      <th>87</th>\n",
       "      <td>cont13</td>\n",
       "      <td>cont6</td>\n",
       "      <td>0.784373</td>\n",
       "      <td>0.784373</td>\n",
       "      <td>['cont13', 'cont6']</td>\n",
       "    </tr>\n",
       "    <tr>\n",
       "      <th>8</th>\n",
       "      <td>cont9</td>\n",
       "      <td>cont1</td>\n",
       "      <td>0.793965</td>\n",
       "      <td>0.793965</td>\n",
       "      <td>['cont1', 'cont9']</td>\n",
       "    </tr>\n",
       "    <tr>\n",
       "      <th>161</th>\n",
       "      <td>cont12</td>\n",
       "      <td>cont11</td>\n",
       "      <td>0.825740</td>\n",
       "      <td>0.825740</td>\n",
       "      <td>['cont11', 'cont12']</td>\n",
       "    </tr>\n",
       "  </tbody>\n",
       "</table>\n",
       "</div>"
      ],
      "text/plain": [
       "    variable1 variable2      corr   corrabs              varTuple\n",
       "129    cont10     cont9  0.725733  0.725733   ['cont10', 'cont9']\n",
       "85     cont11     cont6  0.737542  0.737542   ['cont11', 'cont6']\n",
       "86     cont12     cont6  0.756768  0.756768   ['cont12', 'cont6']\n",
       "84     cont10     cont6  0.771422  0.771422   ['cont10', 'cont6']\n",
       "87     cont13     cont6  0.784373  0.784373   ['cont13', 'cont6']\n",
       "8       cont9     cont1  0.793965  0.793965    ['cont1', 'cont9']\n",
       "161    cont12    cont11  0.825740  0.825740  ['cont11', 'cont12']"
      ]
     },
     "execution_count": 78,
     "metadata": {},
     "output_type": "execute_result"
    }
   ],
   "source": [
    "corr_analysis = pd.melt(df.corr(),var_name='variable2',value_name='corr',ignore_index=False).reset_index().rename(columns={'index':'variable1'})\n",
    "corr_analysis.query('variable1 != variable2',inplace=True)\n",
    "corr_analysis['corrabs'] = corr_analysis['corr'].abs()\n",
    "corr_analysis['varTuple'] = corr_analysis.apply(lambda x: str(sorted([x['variable1'],x['variable2']])),axis=1)\n",
    "corr_analysis.drop_duplicates([\"varTuple\"],inplace=True)\n",
    "corr_analysis.sort_values(\"corrabs\").tail(7)"
   ]
  },
  {
   "cell_type": "markdown",
   "metadata": {},
   "source": [
    "# Model Development\n",
    "\n",
    "---\n",
    "\n"
   ]
  },
  {
   "cell_type": "markdown",
   "metadata": {},
   "source": [
    "## Feature Engineering 1"
   ]
  },
  {
   "cell_type": "code",
   "execution_count": 79,
   "metadata": {},
   "outputs": [],
   "source": [
    "initial_cols = df.columns.drop('target')"
   ]
  },
  {
   "cell_type": "markdown",
   "metadata": {},
   "source": [
    "### Multiplied Features"
   ]
  },
  {
   "cell_type": "code",
   "execution_count": 80,
   "metadata": {},
   "outputs": [],
   "source": [
    "from itertools import combinations\n",
    "\n",
    "possible_features = [[x,y] for x,y in combinations(df.drop('target',axis=1).columns,2)]\n",
    "for x,y in combinations(df.drop('target',axis=1).columns,2):\n",
    "    df[f\"{x}_{y}\"] = df[x]*df[y]"
   ]
  },
  {
   "cell_type": "markdown",
   "metadata": {},
   "source": [
    "### Polynomial Features"
   ]
  },
  {
   "cell_type": "code",
   "execution_count": 81,
   "metadata": {},
   "outputs": [],
   "source": [
    "for col in initial_cols:\n",
    "    df[f\"{col}_power2\"] = df[col]**2\n",
    "    df[f\"{col}_power3\"] = df[col]**3"
   ]
  },
  {
   "cell_type": "markdown",
   "metadata": {},
   "source": [
    "## Dataset Size Reduction"
   ]
  },
  {
   "cell_type": "code",
   "execution_count": 82,
   "metadata": {},
   "outputs": [],
   "source": [
    "for col in df.columns:\n",
    "    df[col] = df[col].astype('float32')"
   ]
  },
  {
   "cell_type": "markdown",
   "metadata": {},
   "source": [
    "## Feature Selection"
   ]
  },
  {
   "cell_type": "code",
   "execution_count": 83,
   "metadata": {},
   "outputs": [
    {
     "data": {
      "text/plain": [
       "[<matplotlib.lines.Line2D at 0x25d805e3748>]"
      ]
     },
     "execution_count": 83,
     "metadata": {},
     "output_type": "execute_result"
    },
    {
     "data": {
      "image/png": "[encoded data removed]",
      "text/plain": [
       "<Figure size 1152x216 with 1 Axes>"
      ]
     },
     "metadata": {
      "needs_background": "light"
     },
     "output_type": "display_data"
    }
   ],
   "source": [
    "from sklearn.decomposition import PCA\n",
    "\n",
    "pca = PCA()\n",
    "pca.fit(df.drop('target',axis=1))\n",
    "exp_var = pca.explained_variance_ratio_.cumsum()\n",
    "plt.figure(figsize=(16,3))\n",
    "plt.axhline(0.99,color='r')\n",
    "\n",
    "exp_99 = exp_var[exp_var < 0.99].shape[0]\n",
    "plt.axvline(exp_99,color='r')\n",
    "plt.text(exp_99,1.1,f\"99% at {exp_99} features\",color='r')\n",
    "\n",
    "plt.plot(range(1,len(exp_var)+1),exp_var,'--')"
   ]
  },
  {
   "cell_type": "code",
   "execution_count": 84,
   "metadata": {},
   "outputs": [
    {
     "name": "stdout",
     "output_type": "stream",
     "text": [
      "Reducing to 99% explained variance 33 features\n"
     ]
    },
    {
     "data": {
      "text/html": [
       "<div>\n",
       "<style scoped>\n",
       "    .dataframe tbody tr th:only-of-type {\n",
       "        vertical-align: middle;\n",
       "    }\n",
       "\n",
       "    .dataframe tbody tr th {\n",
       "        vertical-align: top;\n",
       "    }\n",
       "\n",
       "    .dataframe thead th {\n",
       "        text-align: right;\n",
       "    }\n",
       "</style>\n",
       "<table border=\"1\" class=\"dataframe\">\n",
       "  <thead>\n",
       "    <tr style=\"text-align: right;\">\n",
       "      <th></th>\n",
       "      <th>PCAcont1</th>\n",
       "      <th>PCAcont2</th>\n",
       "      <th>PCAcont3</th>\n",
       "      <th>PCAcont4</th>\n",
       "      <th>PCAcont5</th>\n",
       "      <th>PCAcont6</th>\n",
       "      <th>PCAcont7</th>\n",
       "      <th>PCAcont8</th>\n",
       "      <th>PCAcont9</th>\n",
       "      <th>PCAcont10</th>\n",
       "      <th>...</th>\n",
       "      <th>PCAcont25</th>\n",
       "      <th>PCAcont26</th>\n",
       "      <th>PCAcont27</th>\n",
       "      <th>PCAcont28</th>\n",
       "      <th>PCAcont29</th>\n",
       "      <th>PCAcont30</th>\n",
       "      <th>PCAcont31</th>\n",
       "      <th>PCAcont32</th>\n",
       "      <th>PCAcont33</th>\n",
       "      <th>target</th>\n",
       "    </tr>\n",
       "    <tr>\n",
       "      <th>id</th>\n",
       "      <th></th>\n",
       "      <th></th>\n",
       "      <th></th>\n",
       "      <th></th>\n",
       "      <th></th>\n",
       "      <th></th>\n",
       "      <th></th>\n",
       "      <th></th>\n",
       "      <th></th>\n",
       "      <th></th>\n",
       "      <th></th>\n",
       "      <th></th>\n",
       "      <th></th>\n",
       "      <th></th>\n",
       "      <th></th>\n",
       "      <th></th>\n",
       "      <th></th>\n",
       "      <th></th>\n",
       "      <th></th>\n",
       "      <th></th>\n",
       "      <th></th>\n",
       "    </tr>\n",
       "  </thead>\n",
       "  <tbody>\n",
       "    <tr>\n",
       "      <th>1</th>\n",
       "      <td>2.119514</td>\n",
       "      <td>2.106163</td>\n",
       "      <td>-0.425029</td>\n",
       "      <td>0.125611</td>\n",
       "      <td>0.486363</td>\n",
       "      <td>-0.007327</td>\n",
       "      <td>-0.649906</td>\n",
       "      <td>-0.426213</td>\n",
       "      <td>0.273077</td>\n",
       "      <td>-0.192811</td>\n",
       "      <td>...</td>\n",
       "      <td>0.088913</td>\n",
       "      <td>-0.160453</td>\n",
       "      <td>0.045190</td>\n",
       "      <td>0.001691</td>\n",
       "      <td>0.003287</td>\n",
       "      <td>0.052566</td>\n",
       "      <td>-0.014368</td>\n",
       "      <td>-0.022372</td>\n",
       "      <td>-0.037939</td>\n",
       "      <td>7.243042</td>\n",
       "    </tr>\n",
       "    <tr>\n",
       "      <th>3</th>\n",
       "      <td>-0.777633</td>\n",
       "      <td>0.273888</td>\n",
       "      <td>0.446721</td>\n",
       "      <td>0.242325</td>\n",
       "      <td>0.183640</td>\n",
       "      <td>-0.219699</td>\n",
       "      <td>0.175996</td>\n",
       "      <td>0.170170</td>\n",
       "      <td>-0.083847</td>\n",
       "      <td>-0.058155</td>\n",
       "      <td>...</td>\n",
       "      <td>0.053349</td>\n",
       "      <td>0.007342</td>\n",
       "      <td>0.049044</td>\n",
       "      <td>-0.047428</td>\n",
       "      <td>0.006135</td>\n",
       "      <td>-0.014143</td>\n",
       "      <td>-0.030603</td>\n",
       "      <td>0.007417</td>\n",
       "      <td>-0.041766</td>\n",
       "      <td>8.203331</td>\n",
       "    </tr>\n",
       "  </tbody>\n",
       "</table>\n",
       "<p>2 rows × 34 columns</p>\n",
       "</div>"
      ],
      "text/plain": [
       "    PCAcont1  PCAcont2  PCAcont3  PCAcont4  PCAcont5  PCAcont6  PCAcont7  \\\n",
       "id                                                                         \n",
       "1   2.119514  2.106163 -0.425029  0.125611  0.486363 -0.007327 -0.649906   \n",
       "3  -0.777633  0.273888  0.446721  0.242325  0.183640 -0.219699  0.175996   \n",
       "\n",
       "    PCAcont8  PCAcont9  PCAcont10  ...  PCAcont25  PCAcont26  PCAcont27  \\\n",
       "id                                 ...                                    \n",
       "1  -0.426213  0.273077  -0.192811  ...   0.088913  -0.160453   0.045190   \n",
       "3   0.170170 -0.083847  -0.058155  ...   0.053349   0.007342   0.049044   \n",
       "\n",
       "    PCAcont28  PCAcont29  PCAcont30  PCAcont31  PCAcont32  PCAcont33    target  \n",
       "id                                                                              \n",
       "1    0.001691   0.003287   0.052566  -0.014368  -0.022372  -0.037939  7.243042  \n",
       "3   -0.047428   0.006135  -0.014143  -0.030603   0.007417  -0.041766  8.203331  \n",
       "\n",
       "[2 rows x 34 columns]"
      ]
     },
     "execution_count": 84,
     "metadata": {},
     "output_type": "execute_result"
    }
   ],
   "source": [
    "print(f\"Reducing to 99% explained variance {exp_99} features\")\n",
    "pca = PCA(n_components=exp_99)\n",
    "df_pca = pca.fit_transform(df.drop('target',axis=1))\n",
    "\n",
    "df_pca = pd.DataFrame(df_pca,index=df.index)\n",
    "df_pca.columns = [f\"PCAcont{col+1}\"for col in df_pca.columns]\n",
    "df_pca['target'] = df['target']\n",
    "df = df_pca\n",
    "df.head(2)"
   ]
  },
  {
   "cell_type": "markdown",
   "metadata": {},
   "source": [
    "## Cross Validation"
   ]
  },
  {
   "cell_type": "markdown",
   "metadata": {},
   "source": [
    "We gonna apply Kfold as our CV strategy "
   ]
  },
  {
   "cell_type": "code",
   "execution_count": 85,
   "metadata": {},
   "outputs": [],
   "source": [
    "train = df.dropna()"
   ]
  },
  {
   "cell_type": "code",
   "execution_count": 86,
   "metadata": {},
   "outputs": [],
   "source": [
    "from sklearn.model_selection import KFold,GridSearchCV,train_test_split\n",
    "cv = KFold(3,shuffle=True,random_state=42)\n",
    "x = train.drop('target',axis=1)\n",
    "y = train['target']\n",
    "X_train, X_test, y_train, y_test = train_test_split(x, y, test_size=0.20, random_state=42)"
   ]
  },
  {
   "cell_type": "markdown",
   "metadata": {},
   "source": [
    "## Hyperparameter Tunning"
   ]
  },
  {
   "cell_type": "code",
   "execution_count": 87,
   "metadata": {},
   "outputs": [],
   "source": [
    "from sklearn.linear_model import ElasticNet\n",
    "from sklearn.tree import DecisionTreeRegressor\n",
    "from sklearn.neural_network import MLPRegressor\n",
    "from sklearn.experimental import enable_hist_gradient_boosting\n",
    "from sklearn.ensemble import HistGradientBoostingRegressor\n",
    "from sklearn.neighbors import KNeighborsRegressor\n",
    "from sklearn.gaussian_process import GaussianProcessRegressor\n",
    "\n",
    "from sklearn.metrics import make_scorer,mean_squared_error\n",
    "mse = make_scorer(mean_squared_error,greater_is_better=False)"
   ]
  },
  {
   "cell_type": "code",
   "execution_count": 89,
   "metadata": {},
   "outputs": [],
   "source": [
    "params_dict = {\n",
    "    \"ElasticNet\":{\n",
    "        'alpha':[0,0.3,0.5,0.7,1],\n",
    "        'l1_ratio':[0,0.3,0.5,0.7,1],\n",
    "    },\n",
    "    \"DecisionTreeRegressor\":{\n",
    "        'max_depth':[20,40,70,100,130,None],\n",
    "        'min_samples_split':[2,20,100,300,1000]\n",
    "    },\n",
    "    \"MLPRegressor\":{\n",
    "        'activation':['relu'],\n",
    "        \"hidden_layer_sizes\":[(100,),(40,),(300)],\n",
    "        \"alpha\":[0.01,0.001],\n",
    "        \"early_stopping\":[True]\n",
    "    },\n",
    "    \"HistGradientBoostingRegressor\":{\n",
    "        \"l2_regularization\":10. ** (-np.arange(1,3)),\n",
    "        \"max_iter\":[10,30,100,300],\n",
    "        \"learning_rate\":10. ** (-np.arange(1,3))\n",
    "    },\n",
    "    \"GaussianProcessRegressor\":{\n",
    "        \"alpha\":10. ** (-np.arange(8,10)),\n",
    "    },\n",
    "    \"KNeighborsRegressor\":{\n",
    "        \"n_neighbors\":[3,5,7],\n",
    "        \"weights\":['uniform','distance']\n",
    "    }\n",
    "}\n",
    "\n",
    "model_dict = {\n",
    "    \"ElasticNet\":GridSearchCV(ElasticNet(random_state=42),param_grid=\"\"),\n",
    "    \"DecisionTreeRegressor\":GridSearchCV(DecisionTreeRegressor(random_state=42),param_grid=\"\"),\n",
    "    \"MLPRegressor\":GridSearchCV(MLPRegressor(random_state=42),param_grid=\"\"),\n",
    "    \"HistGradientBoostingRegressor\":GridSearchCV(HistGradientBoostingRegressor(random_state=42),param_grid=\"\"),\n",
    "    #\"GaussianProcessRegressor\":GridSearchCV(GaussianProcessRegressor(random_state=42),param_grid=\"\"),\n",
    "    #\"KNeighborsRegressor\":GridSearchCV(KNeighborsRegressor(n_jobs=-1),param_grid=\"\")\n",
    "}\n",
    "\n"
   ]
  },
  {
   "cell_type": "code",
   "execution_count": 90,
   "metadata": {},
   "outputs": [],
   "source": [
    "for key,item in model_dict.items():\n",
    "    model_dict[key].param_grid = params_dict[key]\n",
    "    model_dict[key].cv = cv\n",
    "    model_dict[key].verbose = 10\n",
    "    model_dict[key].return_train_score=True\n",
    "    model_dict[key].scoring = mse\n",
    "    model_dict[key].n_jobs = -1"
   ]
  },
  {
   "cell_type": "markdown",
   "metadata": {},
   "source": [
    "## Models"
   ]
  },
  {
   "cell_type": "markdown",
   "metadata": {},
   "source": [
    "We gonna get the results from the models and use them as variables to the next level of the model and drop the others"
   ]
  },
  {
   "cell_type": "code",
   "execution_count": null,
   "metadata": {
    "scrolled": true
   },
   "outputs": [
    {
     "name": "stdout",
     "output_type": "stream",
     "text": [
      "-----------\n",
      "ElasticNet\n",
      "Fitting 3 folds for each of 25 candidates, totalling 75 fits\n"
     ]
    },
    {
     "name": "stderr",
     "output_type": "stream",
     "text": [
      "[Parallel(n_jobs=-1)]: Using backend LokyBackend with 4 concurrent workers.\n"
     ]
    }
   ],
   "source": [
    "evaluation = pd.DataFrame()\n",
    "for key,item in model_dict.items():\n",
    "    print(\"-----------\")\n",
    "    print(key)\n",
    "    model_dict[key].fit(X_train,y_train)\n",
    "    results = pd.DataFrame(model_dict[key].cv_results_)\n",
    "    results['model'] = key\n",
    "    evaluation = evaluation.append(results)"
   ]
  },
  {
   "cell_type": "code",
   "execution_count": 111,
   "metadata": {},
   "outputs": [
    {
     "data": {
      "text/html": [
       "<div>\n",
       "<style scoped>\n",
       "    .dataframe tbody tr th:only-of-type {\n",
       "        vertical-align: middle;\n",
       "    }\n",
       "\n",
       "    .dataframe tbody tr th {\n",
       "        vertical-align: top;\n",
       "    }\n",
       "\n",
       "    .dataframe thead th {\n",
       "        text-align: right;\n",
       "    }\n",
       "</style>\n",
       "<table border=\"1\" class=\"dataframe\">\n",
       "  <thead>\n",
       "    <tr style=\"text-align: right;\">\n",
       "      <th></th>\n",
       "      <th>model</th>\n",
       "      <th>mean_train_score</th>\n",
       "      <th>mean_test_score</th>\n",
       "    </tr>\n",
       "  </thead>\n",
       "  <tbody>\n",
       "    <tr>\n",
       "      <th>0</th>\n",
       "      <td>ElasticNet</td>\n",
       "      <td>0.726862</td>\n",
       "      <td>0.726915</td>\n",
       "    </tr>\n",
       "    <tr>\n",
       "      <th>14</th>\n",
       "      <td>DecisionTreeRegressor</td>\n",
       "      <td>0.705269</td>\n",
       "      <td>0.721025</td>\n",
       "    </tr>\n",
       "    <tr>\n",
       "      <th>14</th>\n",
       "      <td>MLPRegressor</td>\n",
       "      <td>0.713023</td>\n",
       "      <td>0.715238</td>\n",
       "    </tr>\n",
       "    <tr>\n",
       "      <th>3</th>\n",
       "      <td>HistGradientBoostingRegressor</td>\n",
       "      <td>0.670531</td>\n",
       "      <td>0.702122</td>\n",
       "    </tr>\n",
       "  </tbody>\n",
       "</table>\n",
       "</div>"
      ],
      "text/plain": [
       "                            model  mean_train_score  mean_test_score\n",
       "0                      ElasticNet          0.726862         0.726915\n",
       "14          DecisionTreeRegressor          0.705269         0.721025\n",
       "14                   MLPRegressor          0.713023         0.715238\n",
       "3   HistGradientBoostingRegressor          0.670531         0.702122"
      ]
     },
     "execution_count": 111,
     "metadata": {},
     "output_type": "execute_result"
    }
   ],
   "source": [
    "best_models = evaluation.sort_values('rank_test_score',ascending=True)[['model','mean_train_score','mean_test_score']].drop_duplicates('model')\n",
    "best_models['mean_train_score'] = np.sqrt(np.abs(best_models['mean_train_score']))\n",
    "best_models['mean_test_score'] = np.sqrt(np.abs(best_models['mean_test_score']))\n",
    "best_models"
   ]
  },
  {
   "cell_type": "code",
   "execution_count": 112,
   "metadata": {},
   "outputs": [
    {
     "data": {
      "text/html": [
       "<div>\n",
       "<style scoped>\n",
       "    .dataframe tbody tr th:only-of-type {\n",
       "        vertical-align: middle;\n",
       "    }\n",
       "\n",
       "    .dataframe tbody tr th {\n",
       "        vertical-align: top;\n",
       "    }\n",
       "\n",
       "    .dataframe thead th {\n",
       "        text-align: right;\n",
       "    }\n",
       "</style>\n",
       "<table border=\"1\" class=\"dataframe\">\n",
       "  <thead>\n",
       "    <tr style=\"text-align: right;\">\n",
       "      <th></th>\n",
       "      <th>model</th>\n",
       "      <th>mean_train_score</th>\n",
       "      <th>mean_test_score</th>\n",
       "      <th>validation_score</th>\n",
       "    </tr>\n",
       "  </thead>\n",
       "  <tbody>\n",
       "    <tr>\n",
       "      <th>0</th>\n",
       "      <td>ElasticNet</td>\n",
       "      <td>0.726862</td>\n",
       "      <td>0.726915</td>\n",
       "      <td>0.723482</td>\n",
       "    </tr>\n",
       "    <tr>\n",
       "      <th>14</th>\n",
       "      <td>DecisionTreeRegressor</td>\n",
       "      <td>0.705269</td>\n",
       "      <td>0.721025</td>\n",
       "      <td>0.700234</td>\n",
       "    </tr>\n",
       "    <tr>\n",
       "      <th>14</th>\n",
       "      <td>MLPRegressor</td>\n",
       "      <td>0.713023</td>\n",
       "      <td>0.715238</td>\n",
       "      <td>0.709411</td>\n",
       "    </tr>\n",
       "    <tr>\n",
       "      <th>3</th>\n",
       "      <td>HistGradientBoostingRegressor</td>\n",
       "      <td>0.670531</td>\n",
       "      <td>0.702122</td>\n",
       "      <td>0.680289</td>\n",
       "    </tr>\n",
       "  </tbody>\n",
       "</table>\n",
       "</div>"
      ],
      "text/plain": [
       "                            model  mean_train_score  mean_test_score  \\\n",
       "0                      ElasticNet          0.726862         0.726915   \n",
       "14          DecisionTreeRegressor          0.705269         0.721025   \n",
       "14                   MLPRegressor          0.713023         0.715238   \n",
       "3   HistGradientBoostingRegressor          0.670531         0.702122   \n",
       "\n",
       "    validation_score  \n",
       "0           0.723482  \n",
       "14          0.700234  \n",
       "14          0.709411  \n",
       "3           0.680289  "
      ]
     },
     "execution_count": 112,
     "metadata": {},
     "output_type": "execute_result"
    }
   ],
   "source": [
    "for model_name in best_models['model']:\n",
    "    model_dict[model_name].best_estimator_.fit(x,y)\n",
    "best_models['validation_score'] = best_models['model'].apply(lambda model_name: np.sqrt(mean_squared_error(model_dict[model_name].best_estimator_.predict(X_test),y_test)))\n",
    "best_models"
   ]
  },
  {
   "cell_type": "markdown",
   "metadata": {},
   "source": [
    "## Feature Engineering 2"
   ]
  },
  {
   "cell_type": "markdown",
   "metadata": {},
   "source": [
    "### Polynomial Features"
   ]
  },
  {
   "cell_type": "code",
   "execution_count": null,
   "metadata": {},
   "outputs": [],
   "source": []
  },
  {
   "cell_type": "markdown",
   "metadata": {},
   "source": [
    "### Multiplied Features"
   ]
  },
  {
   "cell_type": "code",
   "execution_count": null,
   "metadata": {},
   "outputs": [],
   "source": []
  },
  {
   "cell_type": "markdown",
   "metadata": {},
   "source": [
    "## Ensembles"
   ]
  },
  {
   "cell_type": "code",
   "execution_count": null,
   "metadata": {},
   "outputs": [],
   "source": []
  },
  {
   "cell_type": "markdown",
   "metadata": {},
   "source": [
    "## Model Evaluation"
   ]
  },
  {
   "cell_type": "code",
   "execution_count": 100,
   "metadata": {},
   "outputs": [],
   "source": []
  },
  {
   "cell_type": "markdown",
   "metadata": {},
   "source": [
    "## Submissions output"
   ]
  },
  {
   "cell_type": "code",
   "execution_count": 114,
   "metadata": {},
   "outputs": [],
   "source": [
    "key = \"HistGradientBoostingRegressor\"\n",
    "test = df[df['target'].isna()].drop('target',axis=1)\n",
    "model = model_dict[key].best_estimator_\n",
    "submissions = pd.DataFrame(model.predict(test),columns=['target'],index=test.index)\n",
    "submissions.reset_index(inplace=True)\n",
    "submissions.to_csv(f'submissions/{key}.csv',index=False)"
   ]
  },
  {
   "cell_type": "code",
   "execution_count": 48,
   "metadata": {},
   "outputs": [
    {
     "data": {
      "text/html": [
       "<div>\n",
       "<style scoped>\n",
       "    .dataframe tbody tr th:only-of-type {\n",
       "        vertical-align: middle;\n",
       "    }\n",
       "\n",
       "    .dataframe tbody tr th {\n",
       "        vertical-align: top;\n",
       "    }\n",
       "\n",
       "    .dataframe thead th {\n",
       "        text-align: right;\n",
       "    }\n",
       "</style>\n",
       "<table border=\"1\" class=\"dataframe\">\n",
       "  <thead>\n",
       "    <tr style=\"text-align: right;\">\n",
       "      <th></th>\n",
       "      <th>id</th>\n",
       "      <th>target</th>\n",
       "    </tr>\n",
       "  </thead>\n",
       "  <tbody>\n",
       "    <tr>\n",
       "      <th>0</th>\n",
       "      <td>0</td>\n",
       "      <td>8.193006</td>\n",
       "    </tr>\n",
       "    <tr>\n",
       "      <th>1</th>\n",
       "      <td>2</td>\n",
       "      <td>7.863255</td>\n",
       "    </tr>\n",
       "    <tr>\n",
       "      <th>2</th>\n",
       "      <td>6</td>\n",
       "      <td>7.890219</td>\n",
       "    </tr>\n",
       "    <tr>\n",
       "      <th>3</th>\n",
       "      <td>7</td>\n",
       "      <td>8.082923</td>\n",
       "    </tr>\n",
       "    <tr>\n",
       "      <th>4</th>\n",
       "      <td>10</td>\n",
       "      <td>8.109815</td>\n",
       "    </tr>\n",
       "    <tr>\n",
       "      <th>...</th>\n",
       "      <td>...</td>\n",
       "      <td>...</td>\n",
       "    </tr>\n",
       "    <tr>\n",
       "      <th>199995</th>\n",
       "      <td>499984</td>\n",
       "      <td>8.076341</td>\n",
       "    </tr>\n",
       "    <tr>\n",
       "      <th>199996</th>\n",
       "      <td>499985</td>\n",
       "      <td>7.948479</td>\n",
       "    </tr>\n",
       "    <tr>\n",
       "      <th>199997</th>\n",
       "      <td>499987</td>\n",
       "      <td>8.192711</td>\n",
       "    </tr>\n",
       "    <tr>\n",
       "      <th>199998</th>\n",
       "      <td>499988</td>\n",
       "      <td>7.969531</td>\n",
       "    </tr>\n",
       "    <tr>\n",
       "      <th>199999</th>\n",
       "      <td>499990</td>\n",
       "      <td>7.773389</td>\n",
       "    </tr>\n",
       "  </tbody>\n",
       "</table>\n",
       "<p>200000 rows × 2 columns</p>\n",
       "</div>"
      ],
      "text/plain": [
       "            id    target\n",
       "0            0  8.193006\n",
       "1            2  7.863255\n",
       "2            6  7.890219\n",
       "3            7  8.082923\n",
       "4           10  8.109815\n",
       "...        ...       ...\n",
       "199995  499984  8.076341\n",
       "199996  499985  7.948479\n",
       "199997  499987  8.192711\n",
       "199998  499988  7.969531\n",
       "199999  499990  7.773389\n",
       "\n",
       "[200000 rows x 2 columns]"
      ]
     },
     "execution_count": 48,
     "metadata": {},
     "output_type": "execute_result"
    }
   ],
   "source": [
    "submissions"
   ]
  }
 ],
 "metadata": {
  "kernelspec": {
   "display_name": "Python 3",
   "language": "python",
   "name": "python3"
  },
  "language_info": {
   "codemirror_mode": {
    "name": "ipython",
    "version": 3
   },
   "file_extension": ".py",
   "mimetype": "text/x-python",
   "name": "python",
   "nbconvert_exporter": "python",
   "pygments_lexer": "ipython3",
   "version": "3.7.4"
  },
  "toc": {
   "base_numbering": 1,
   "nav_menu": {},
   "number_sections": true,
   "sideBar": true,
   "skip_h1_title": false,
   "title_cell": "Table of Contents",
   "title_sidebar": "Contents",
   "toc_cell": false,
   "toc_position": {},
   "toc_section_display": true,
   "toc_window_display": false
  }
 },
 "nbformat": 4,
 "nbformat_minor": 2
}
