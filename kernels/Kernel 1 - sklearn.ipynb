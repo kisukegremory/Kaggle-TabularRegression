{
 "cells": [
  {
   "cell_type": "code",
   "execution_count": 94,
   "metadata": {},
   "outputs": [],
   "source": [
    "import pandas as pd \n",
    "import numpy as np\n",
    "import matplotlib.pyplot as plt\n",
    "import seaborn as sns\n",
    "import warnings\n",
    "warnings.filterwarnings('ignore')"
   ]
  },
  {
   "cell_type": "code",
   "execution_count": 95,
   "metadata": {},
   "outputs": [
    {
     "data": {
      "text/html": [
       "<div>\n",
       "<style scoped>\n",
       "    .dataframe tbody tr th:only-of-type {\n",
       "        vertical-align: middle;\n",
       "    }\n",
       "\n",
       "    .dataframe tbody tr th {\n",
       "        vertical-align: top;\n",
       "    }\n",
       "\n",
       "    .dataframe thead th {\n",
       "        text-align: right;\n",
       "    }\n",
       "</style>\n",
       "<table border=\"1\" class=\"dataframe\">\n",
       "  <thead>\n",
       "    <tr style=\"text-align: right;\">\n",
       "      <th></th>\n",
       "      <th>cont1</th>\n",
       "      <th>cont2</th>\n",
       "      <th>cont3</th>\n",
       "      <th>cont4</th>\n",
       "      <th>cont5</th>\n",
       "      <th>cont6</th>\n",
       "      <th>cont7</th>\n",
       "      <th>cont8</th>\n",
       "      <th>cont9</th>\n",
       "      <th>cont10</th>\n",
       "      <th>cont11</th>\n",
       "      <th>cont12</th>\n",
       "      <th>cont13</th>\n",
       "      <th>cont14</th>\n",
       "      <th>target</th>\n",
       "    </tr>\n",
       "    <tr>\n",
       "      <th>id</th>\n",
       "      <th></th>\n",
       "      <th></th>\n",
       "      <th></th>\n",
       "      <th></th>\n",
       "      <th></th>\n",
       "      <th></th>\n",
       "      <th></th>\n",
       "      <th></th>\n",
       "      <th></th>\n",
       "      <th></th>\n",
       "      <th></th>\n",
       "      <th></th>\n",
       "      <th></th>\n",
       "      <th></th>\n",
       "      <th></th>\n",
       "    </tr>\n",
       "  </thead>\n",
       "  <tbody>\n",
       "    <tr>\n",
       "      <th>1</th>\n",
       "      <td>0.670390</td>\n",
       "      <td>0.811300</td>\n",
       "      <td>0.643968</td>\n",
       "      <td>0.291791</td>\n",
       "      <td>0.284117</td>\n",
       "      <td>0.855953</td>\n",
       "      <td>0.890700</td>\n",
       "      <td>0.285542</td>\n",
       "      <td>0.558245</td>\n",
       "      <td>0.779418</td>\n",
       "      <td>0.921832</td>\n",
       "      <td>0.866772</td>\n",
       "      <td>0.878733</td>\n",
       "      <td>0.305411</td>\n",
       "      <td>7.243043</td>\n",
       "    </tr>\n",
       "    <tr>\n",
       "      <th>3</th>\n",
       "      <td>0.388053</td>\n",
       "      <td>0.621104</td>\n",
       "      <td>0.686102</td>\n",
       "      <td>0.501149</td>\n",
       "      <td>0.643790</td>\n",
       "      <td>0.449805</td>\n",
       "      <td>0.510824</td>\n",
       "      <td>0.580748</td>\n",
       "      <td>0.418335</td>\n",
       "      <td>0.432632</td>\n",
       "      <td>0.439872</td>\n",
       "      <td>0.434971</td>\n",
       "      <td>0.369957</td>\n",
       "      <td>0.369484</td>\n",
       "      <td>8.203331</td>\n",
       "    </tr>\n",
       "  </tbody>\n",
       "</table>\n",
       "</div>"
      ],
      "text/plain": [
       "       cont1     cont2     cont3     cont4     cont5     cont6     cont7  \\\n",
       "id                                                                         \n",
       "1   0.670390  0.811300  0.643968  0.291791  0.284117  0.855953  0.890700   \n",
       "3   0.388053  0.621104  0.686102  0.501149  0.643790  0.449805  0.510824   \n",
       "\n",
       "       cont8     cont9    cont10    cont11    cont12    cont13    cont14  \\\n",
       "id                                                                         \n",
       "1   0.285542  0.558245  0.779418  0.921832  0.866772  0.878733  0.305411   \n",
       "3   0.580748  0.418335  0.432632  0.439872  0.434971  0.369957  0.369484   \n",
       "\n",
       "      target  \n",
       "id            \n",
       "1   7.243043  \n",
       "3   8.203331  "
      ]
     },
     "execution_count": 95,
     "metadata": {},
     "output_type": "execute_result"
    }
   ],
   "source": [
    "train = pd.read_csv('data/train.csv')\n",
    "test = pd.read_csv('data/test.csv')\n",
    "df = train.append(test)\n",
    "df.set_index('id',inplace=True)\n",
    "df.head(2)"
   ]
  },
  {
   "cell_type": "markdown",
   "metadata": {},
   "source": [
    "# EDA\n",
    "---"
   ]
  },
  {
   "cell_type": "markdown",
   "metadata": {},
   "source": [
    "There some variables correlated but any of them above 0.9 for other we can deal with it using l1 or l2 penalty"
   ]
  },
  {
   "cell_type": "code",
   "execution_count": 96,
   "metadata": {},
   "outputs": [
    {
     "data": {
      "text/html": [
       "<div>\n",
       "<style scoped>\n",
       "    .dataframe tbody tr th:only-of-type {\n",
       "        vertical-align: middle;\n",
       "    }\n",
       "\n",
       "    .dataframe tbody tr th {\n",
       "        vertical-align: top;\n",
       "    }\n",
       "\n",
       "    .dataframe thead th {\n",
       "        text-align: right;\n",
       "    }\n",
       "</style>\n",
       "<table border=\"1\" class=\"dataframe\">\n",
       "  <thead>\n",
       "    <tr style=\"text-align: right;\">\n",
       "      <th></th>\n",
       "      <th>variable1</th>\n",
       "      <th>variable2</th>\n",
       "      <th>corr</th>\n",
       "      <th>corrabs</th>\n",
       "      <th>varTuple</th>\n",
       "    </tr>\n",
       "  </thead>\n",
       "  <tbody>\n",
       "    <tr>\n",
       "      <th>129</th>\n",
       "      <td>cont10</td>\n",
       "      <td>cont9</td>\n",
       "      <td>0.725733</td>\n",
       "      <td>0.725733</td>\n",
       "      <td>['cont10', 'cont9']</td>\n",
       "    </tr>\n",
       "    <tr>\n",
       "      <th>85</th>\n",
       "      <td>cont11</td>\n",
       "      <td>cont6</td>\n",
       "      <td>0.737542</td>\n",
       "      <td>0.737542</td>\n",
       "      <td>['cont11', 'cont6']</td>\n",
       "    </tr>\n",
       "    <tr>\n",
       "      <th>86</th>\n",
       "      <td>cont12</td>\n",
       "      <td>cont6</td>\n",
       "      <td>0.756768</td>\n",
       "      <td>0.756768</td>\n",
       "      <td>['cont12', 'cont6']</td>\n",
       "    </tr>\n",
       "    <tr>\n",
       "      <th>84</th>\n",
       "      <td>cont10</td>\n",
       "      <td>cont6</td>\n",
       "      <td>0.771422</td>\n",
       "      <td>0.771422</td>\n",
       "      <td>['cont10', 'cont6']</td>\n",
       "    </tr>\n",
       "    <tr>\n",
       "      <th>87</th>\n",
       "      <td>cont13</td>\n",
       "      <td>cont6</td>\n",
       "      <td>0.784373</td>\n",
       "      <td>0.784373</td>\n",
       "      <td>['cont13', 'cont6']</td>\n",
       "    </tr>\n",
       "    <tr>\n",
       "      <th>8</th>\n",
       "      <td>cont9</td>\n",
       "      <td>cont1</td>\n",
       "      <td>0.793965</td>\n",
       "      <td>0.793965</td>\n",
       "      <td>['cont1', 'cont9']</td>\n",
       "    </tr>\n",
       "    <tr>\n",
       "      <th>161</th>\n",
       "      <td>cont12</td>\n",
       "      <td>cont11</td>\n",
       "      <td>0.825740</td>\n",
       "      <td>0.825740</td>\n",
       "      <td>['cont11', 'cont12']</td>\n",
       "    </tr>\n",
       "  </tbody>\n",
       "</table>\n",
       "</div>"
      ],
      "text/plain": [
       "    variable1 variable2      corr   corrabs              varTuple\n",
       "129    cont10     cont9  0.725733  0.725733   ['cont10', 'cont9']\n",
       "85     cont11     cont6  0.737542  0.737542   ['cont11', 'cont6']\n",
       "86     cont12     cont6  0.756768  0.756768   ['cont12', 'cont6']\n",
       "84     cont10     cont6  0.771422  0.771422   ['cont10', 'cont6']\n",
       "87     cont13     cont6  0.784373  0.784373   ['cont13', 'cont6']\n",
       "8       cont9     cont1  0.793965  0.793965    ['cont1', 'cont9']\n",
       "161    cont12    cont11  0.825740  0.825740  ['cont11', 'cont12']"
      ]
     },
     "execution_count": 96,
     "metadata": {},
     "output_type": "execute_result"
    }
   ],
   "source": [
    "corr_analysis = pd.melt(df.corr(),var_name='variable2',value_name='corr',ignore_index=False).reset_index().rename(columns={'index':'variable1'})\n",
    "corr_analysis.query('variable1 != variable2',inplace=True)\n",
    "corr_analysis['corrabs'] = corr_analysis['corr'].abs()\n",
    "corr_analysis['varTuple'] = corr_analysis.apply(lambda x: str(sorted([x['variable1'],x['variable2']])),axis=1)\n",
    "corr_analysis.drop_duplicates([\"varTuple\"],inplace=True)\n",
    "corr_analysis.sort_values(\"corrabs\").tail(7)"
   ]
  },
  {
   "cell_type": "markdown",
   "metadata": {},
   "source": [
    "# Model Development\n",
    "\n",
    "---\n",
    "\n"
   ]
  },
  {
   "cell_type": "markdown",
   "metadata": {},
   "source": [
    "## Feature Engineering 1"
   ]
  },
  {
   "cell_type": "code",
   "execution_count": 4,
   "metadata": {},
   "outputs": [],
   "source": [
    "initial_cols = df.columns.drop('target')"
   ]
  },
  {
   "cell_type": "markdown",
   "metadata": {},
   "source": [
    "### Multiplied Features"
   ]
  },
  {
   "cell_type": "code",
   "execution_count": 5,
   "metadata": {},
   "outputs": [],
   "source": [
    "initial_cols = df.columns.drop('target')\n",
    "from itertools import combinations\n",
    "\n",
    "possible_features = [[x,y] for x,y in combinations(df.drop('target',axis=1).columns,2)]\n",
    "for x,y in combinations(df.drop('target',axis=1).columns,2):\n",
    "    df[f\"{x}_{y}\"] = df[x]*df[y]"
   ]
  },
  {
   "cell_type": "markdown",
   "metadata": {},
   "source": [
    "### Polynomial Features"
   ]
  },
  {
   "cell_type": "code",
   "execution_count": 6,
   "metadata": {},
   "outputs": [],
   "source": [
    "# for col in initial_cols:\n",
    "#     df[f\"{col}_power2\"] = df[col]**2\n",
    "#     df[f\"{col}_power3\"] = df[col]**3"
   ]
  },
  {
   "cell_type": "markdown",
   "metadata": {},
   "source": [
    "## Dataset Size Reduction"
   ]
  },
  {
   "cell_type": "code",
   "execution_count": 111,
   "metadata": {},
   "outputs": [],
   "source": [
    "for col in df.columns:\n",
    "    df[col] = df[col].astype('float32')"
   ]
  },
  {
   "cell_type": "markdown",
   "metadata": {},
   "source": [
    "## Data Split"
   ]
  },
  {
   "cell_type": "code",
   "execution_count": 120,
   "metadata": {},
   "outputs": [],
   "source": [
    "train = df.dropna()\n",
    "from sklearn.model_selection import KFold,GridSearchCV,train_test_split\n",
    "cv = KFold(2,shuffle=True,random_state=42)\n",
    "x = train.drop('target',axis=1)\n",
    "y = train['target']\n",
    "X_train, X_test, y_train, y_test = train_test_split(x, y, test_size=0.10, random_state=42)"
   ]
  },
  {
   "cell_type": "markdown",
   "metadata": {},
   "source": [
    "## Feature Selection"
   ]
  },
  {
   "cell_type": "markdown",
   "metadata": {
    "heading_collapsed": true
   },
   "source": [
    "### Univariate Tests"
   ]
  },
  {
   "cell_type": "code",
   "execution_count": 99,
   "metadata": {
    "hidden": true
   },
   "outputs": [],
   "source": [
    "from sklearn.feature_selection import f_regression,mutual_info_regression"
   ]
  },
  {
   "cell_type": "code",
   "execution_count": 107,
   "metadata": {
    "hidden": true
   },
   "outputs": [
    {
     "data": {
      "text/plain": [
       "<matplotlib.axes._subplots.AxesSubplot at 0x27305274908>"
      ]
     },
     "execution_count": 107,
     "metadata": {},
     "output_type": "execute_result"
    },
    {
     "data": {
      "image/png": "[encoded data removed]",
      "text/plain": [
       "<Figure size 1152x360 with 1 Axes>"
      ]
     },
     "metadata": {
      "needs_background": "light"
     },
     "output_type": "display_data"
    }
   ],
   "source": [
    "#f_reg = f_regression(x,y)\n",
    "plt.figure(figsize=(16,5))\n",
    "plt.axhline(0.05)\n",
    "sns.barplot(x.columns,f_reg[1])"
   ]
  },
  {
   "cell_type": "code",
   "execution_count": 110,
   "metadata": {
    "hidden": true
   },
   "outputs": [
    {
     "data": {
      "text/plain": [
       "<matplotlib.axes._subplots.AxesSubplot at 0x273052d6fc8>"
      ]
     },
     "execution_count": 110,
     "metadata": {},
     "output_type": "execute_result"
    },
    {
     "data": {
      "image/png": "[encoded data removed]",
      "text/plain": [
       "<Figure size 1152x360 with 1 Axes>"
      ]
     },
     "metadata": {
      "needs_background": "light"
     },
     "output_type": "display_data"
    }
   ],
   "source": [
    "#mutual_test = mutual_info_regression(x,y)\n",
    "mutual_test\n",
    "plt.figure(figsize=(16,5))\n",
    "plt.axhline(0.05)\n",
    "sns.barplot(x.columns,mutual_test)"
   ]
  },
  {
   "cell_type": "markdown",
   "metadata": {
    "heading_collapsed": true
   },
   "source": [
    "### PCA"
   ]
  },
  {
   "cell_type": "code",
   "execution_count": 8,
   "metadata": {
    "hidden": true
   },
   "outputs": [
    {
     "data": {
      "text/plain": [
       "[<matplotlib.lines.Line2D at 0x27355634948>]"
      ]
     },
     "execution_count": 8,
     "metadata": {},
     "output_type": "execute_result"
    },
    {
     "data": {
      "image/png": "[encoded data removed]",
      "text/plain": [
       "<Figure size 1152x216 with 1 Axes>"
      ]
     },
     "metadata": {
      "needs_background": "light"
     },
     "output_type": "display_data"
    }
   ],
   "source": [
    "from sklearn.decomposition import PCA\n",
    "\n",
    "pca = PCA()\n",
    "pca.fit(df.drop('target',axis=1))\n",
    "exp_var = pca.explained_variance_ratio_.cumsum()\n",
    "plt.figure(figsize=(16,3))\n",
    "plt.axhline(0.99,color='r')\n",
    "\n",
    "exp_99 = exp_var[exp_var < 0.99].shape[0]\n",
    "plt.axvline(exp_99,color='r')\n",
    "plt.text(exp_99,1.1,f\"99% at {exp_99} features\",color='r')\n",
    "\n",
    "plt.plot(range(1,len(exp_var)+1),exp_var,'--')"
   ]
  },
  {
   "cell_type": "code",
   "execution_count": 9,
   "metadata": {
    "hidden": true
   },
   "outputs": [
    {
     "name": "stdout",
     "output_type": "stream",
     "text": [
      "Reducing to 99% explained variance 30 features\n"
     ]
    },
    {
     "data": {
      "text/html": [
       "<div>\n",
       "<style scoped>\n",
       "    .dataframe tbody tr th:only-of-type {\n",
       "        vertical-align: middle;\n",
       "    }\n",
       "\n",
       "    .dataframe tbody tr th {\n",
       "        vertical-align: top;\n",
       "    }\n",
       "\n",
       "    .dataframe thead th {\n",
       "        text-align: right;\n",
       "    }\n",
       "</style>\n",
       "<table border=\"1\" class=\"dataframe\">\n",
       "  <thead>\n",
       "    <tr style=\"text-align: right;\">\n",
       "      <th></th>\n",
       "      <th>PCAcont1</th>\n",
       "      <th>PCAcont2</th>\n",
       "      <th>PCAcont3</th>\n",
       "      <th>PCAcont4</th>\n",
       "      <th>PCAcont5</th>\n",
       "      <th>PCAcont6</th>\n",
       "      <th>PCAcont7</th>\n",
       "      <th>PCAcont8</th>\n",
       "      <th>PCAcont9</th>\n",
       "      <th>PCAcont10</th>\n",
       "      <th>...</th>\n",
       "      <th>PCAcont22</th>\n",
       "      <th>PCAcont23</th>\n",
       "      <th>PCAcont24</th>\n",
       "      <th>PCAcont25</th>\n",
       "      <th>PCAcont26</th>\n",
       "      <th>PCAcont27</th>\n",
       "      <th>PCAcont28</th>\n",
       "      <th>PCAcont29</th>\n",
       "      <th>PCAcont30</th>\n",
       "      <th>target</th>\n",
       "    </tr>\n",
       "    <tr>\n",
       "      <th>id</th>\n",
       "      <th></th>\n",
       "      <th></th>\n",
       "      <th></th>\n",
       "      <th></th>\n",
       "      <th></th>\n",
       "      <th></th>\n",
       "      <th></th>\n",
       "      <th></th>\n",
       "      <th></th>\n",
       "      <th></th>\n",
       "      <th></th>\n",
       "      <th></th>\n",
       "      <th></th>\n",
       "      <th></th>\n",
       "      <th></th>\n",
       "      <th></th>\n",
       "      <th></th>\n",
       "      <th></th>\n",
       "      <th></th>\n",
       "      <th></th>\n",
       "      <th></th>\n",
       "    </tr>\n",
       "  </thead>\n",
       "  <tbody>\n",
       "    <tr>\n",
       "      <th>1</th>\n",
       "      <td>1.765131</td>\n",
       "      <td>1.660926</td>\n",
       "      <td>-0.727509</td>\n",
       "      <td>0.274849</td>\n",
       "      <td>0.285394</td>\n",
       "      <td>-0.075425</td>\n",
       "      <td>-0.608382</td>\n",
       "      <td>-0.342790</td>\n",
       "      <td>0.118588</td>\n",
       "      <td>-0.180809</td>\n",
       "      <td>...</td>\n",
       "      <td>-0.054493</td>\n",
       "      <td>-0.127485</td>\n",
       "      <td>-0.022679</td>\n",
       "      <td>-0.087776</td>\n",
       "      <td>-0.008314</td>\n",
       "      <td>-0.039625</td>\n",
       "      <td>-0.082870</td>\n",
       "      <td>0.015646</td>\n",
       "      <td>0.019230</td>\n",
       "      <td>7.243042</td>\n",
       "    </tr>\n",
       "    <tr>\n",
       "      <th>3</th>\n",
       "      <td>-0.591978</td>\n",
       "      <td>0.304501</td>\n",
       "      <td>0.378540</td>\n",
       "      <td>0.283033</td>\n",
       "      <td>0.084606</td>\n",
       "      <td>-0.060904</td>\n",
       "      <td>0.207874</td>\n",
       "      <td>0.137612</td>\n",
       "      <td>-0.052794</td>\n",
       "      <td>-0.049525</td>\n",
       "      <td>...</td>\n",
       "      <td>-0.024789</td>\n",
       "      <td>-0.002509</td>\n",
       "      <td>-0.046507</td>\n",
       "      <td>0.004449</td>\n",
       "      <td>-0.005307</td>\n",
       "      <td>-0.017958</td>\n",
       "      <td>-0.009525</td>\n",
       "      <td>-0.013994</td>\n",
       "      <td>-0.002168</td>\n",
       "      <td>8.203331</td>\n",
       "    </tr>\n",
       "  </tbody>\n",
       "</table>\n",
       "<p>2 rows × 31 columns</p>\n",
       "</div>"
      ],
      "text/plain": [
       "    PCAcont1  PCAcont2  PCAcont3  PCAcont4  PCAcont5  PCAcont6  PCAcont7  \\\n",
       "id                                                                         \n",
       "1   1.765131  1.660926 -0.727509  0.274849  0.285394 -0.075425 -0.608382   \n",
       "3  -0.591978  0.304501  0.378540  0.283033  0.084606 -0.060904  0.207874   \n",
       "\n",
       "    PCAcont8  PCAcont9  PCAcont10  ...  PCAcont22  PCAcont23  PCAcont24  \\\n",
       "id                                 ...                                    \n",
       "1  -0.342790  0.118588  -0.180809  ...  -0.054493  -0.127485  -0.022679   \n",
       "3   0.137612 -0.052794  -0.049525  ...  -0.024789  -0.002509  -0.046507   \n",
       "\n",
       "    PCAcont25  PCAcont26  PCAcont27  PCAcont28  PCAcont29  PCAcont30    target  \n",
       "id                                                                              \n",
       "1   -0.087776  -0.008314  -0.039625  -0.082870   0.015646   0.019230  7.243042  \n",
       "3    0.004449  -0.005307  -0.017958  -0.009525  -0.013994  -0.002168  8.203331  \n",
       "\n",
       "[2 rows x 31 columns]"
      ]
     },
     "execution_count": 9,
     "metadata": {},
     "output_type": "execute_result"
    }
   ],
   "source": [
    "print(f\"Reducing to 99% explained variance {exp_99} features\")\n",
    "pca = PCA(n_components=exp_99)\n",
    "df_pca = pca.fit_transform(df.drop('target',axis=1))\n",
    "\n",
    "df_pca = pd.DataFrame(df_pca,index=df.index)\n",
    "df_pca.columns = [f\"PCAcont{col+1}\"for col in df_pca.columns]\n",
    "df_pca['target'] = df['target']\n",
    "df = df_pca\n",
    "df.head(2)"
   ]
  },
  {
   "cell_type": "markdown",
   "metadata": {},
   "source": [
    "## Cross Validation"
   ]
  },
  {
   "cell_type": "markdown",
   "metadata": {},
   "source": [
    "We gonna apply Kfold as our CV strategy "
   ]
  },
  {
   "cell_type": "code",
   "execution_count": 42,
   "metadata": {},
   "outputs": [
    {
     "data": {
      "image/png": "[encoded data removed]",
      "text/plain": [
       "<Figure size 432x288 with 1 Axes>"
      ]
     },
     "metadata": {
      "needs_background": "light"
     },
     "output_type": "display_data"
    }
   ],
   "source": [
    "sns.distplot(y)\n",
    "percentile_limits = y.quantile(q=[0.01,0.99]).to_list()\n",
    "train.query(f\"target >={percentile_limits[0]} and target <= {percentile_limits[1]}\",inplace=True)"
   ]
  },
  {
   "cell_type": "code",
   "execution_count": 46,
   "metadata": {},
   "outputs": [
    {
     "data": {
      "text/plain": [
       "<matplotlib.axes._subplots.AxesSubplot at 0x273aacaa908>"
      ]
     },
     "execution_count": 46,
     "metadata": {},
     "output_type": "execute_result"
    },
    {
     "data": {
      "image/png": "[encoded data removed]",
      "text/plain": [
       "<Figure size 432x288 with 1 Axes>"
      ]
     },
     "metadata": {
      "needs_background": "light"
     },
     "output_type": "display_data"
    }
   ],
   "source": [
    "from sklearn.preprocessing import StandardScaler\n",
    "y_scaler = StandardScaler()\n",
    "#sns.distplot(y_scaler.fit_transform(np.array(y).reshape(-1, 1)))\n",
    "sns.distplot(y)"
   ]
  },
  {
   "cell_type": "code",
   "execution_count": 44,
   "metadata": {},
   "outputs": [],
   "source": []
  },
  {
   "cell_type": "markdown",
   "metadata": {},
   "source": [
    "## Hyperparameter Tunning"
   ]
  },
  {
   "cell_type": "code",
   "execution_count": 122,
   "metadata": {},
   "outputs": [],
   "source": [
    "from sklearn.linear_model import ElasticNet\n",
    "from sklearn.tree import DecisionTreeRegressor\n",
    "from sklearn.neural_network import MLPRegressor\n",
    "from sklearn.experimental import enable_hist_gradient_boosting\n",
    "from sklearn.ensemble import HistGradientBoostingRegressor,AdaBoostRegressor,RandomForestRegressor\n",
    "from sklearn.neighbors import KNeighborsRegressor\n",
    "from sklearn.gaussian_process import GaussianProcessRegressor\n",
    "\n",
    "from sklearn.metrics import make_scorer,mean_squared_error\n",
    "mse = make_scorer(mean_squared_error,greater_is_better=False)"
   ]
  },
  {
   "cell_type": "code",
   "execution_count": 123,
   "metadata": {},
   "outputs": [],
   "source": [
    "params_dict = {\n",
    "    \"ElasticNet\":{\n",
    "        'alpha':[0,0.1,0.5,0.9,1],\n",
    "        'l1_ratio':[0,0.1,0.5,0.9,1],\n",
    "    },\n",
    "    \"DecisionTreeRegressor\":{\n",
    "        'max_depth':[3,10,40,None],\n",
    "        'min_samples_split':[2,50,300]\n",
    "    },\n",
    "    \"RandomForestRegressor\":{\n",
    "        \"n_estimators\":[10,40,70],\n",
    "        'max_depth':[3,7,21,None],\n",
    "        \n",
    "    },\n",
    "    \"MLPRegressor\":{\n",
    "        'activation':['relu'],\n",
    "        \"hidden_layer_sizes\":[(100,),(40,),(300)],\n",
    "        \"alpha\":[0.01,0.001],\n",
    "        \"early_stopping\":[True]\n",
    "    },\n",
    "    \"HistGradientBoostingRegressor\":{\n",
    "        \"l2_regularization\":10. ** (-np.arange(1,3)),\n",
    "        \"max_iter\":[10,30,100,300],\n",
    "        \"learning_rate\":10. ** (-np.arange(1,3))\n",
    "    },\n",
    "    \"AdaBoostRegressor\":{\n",
    "        \"n_estimators\":[3,10,50],\n",
    "    },\n",
    "    \"GaussianProcessRegressor\":{\n",
    "        \"alpha\":10. ** (-np.arange(8,10)),\n",
    "    },\n",
    "    \"KNeighborsRegressor\":{\n",
    "        \"n_neighbors\":[3,5,7],\n",
    "        \"weights\":['uniform','distance']\n",
    "    }\n",
    "}\n",
    "\n",
    "model_dict = {\n",
    "    \"ElasticNet\":GridSearchCV(ElasticNet(random_state=42),param_grid=\"\"),\n",
    "    \"DecisionTreeRegressor\":GridSearchCV(DecisionTreeRegressor(random_state=42),param_grid=\"\"),\n",
    "    \"RandomForestRegressor\":GridSearchCV(RandomForestRegressor(random_state=42),param_grid=\"\"),\n",
    "    \"MLPRegressor\":GridSearchCV(MLPRegressor(random_state=42),param_grid=\"\"),\n",
    "    \"HistGradientBoostingRegressor\":GridSearchCV(HistGradientBoostingRegressor(random_state=42),param_grid=\"\"),\n",
    "    \"AdaBoostRegressor\":GridSearchCV(AdaBoostRegressor(DecisionTreeRegressor(max_depth=None),random_state=42),param_grid=\"\"),\n",
    "    #\"GaussianProcessRegressor\":GridSearchCV(GaussianProcessRegressor(random_state=42),param_grid=\"\"),\n",
    "    \"KNeighborsRegressor\":GridSearchCV(KNeighborsRegressor(n_jobs=-1),param_grid=\"\")\n",
    "}\n",
    "\n"
   ]
  },
  {
   "cell_type": "code",
   "execution_count": 124,
   "metadata": {},
   "outputs": [],
   "source": [
    "for key,item in model_dict.items():\n",
    "    model_dict[key].param_grid = params_dict[key]\n",
    "    model_dict[key].cv = cv\n",
    "    model_dict[key].verbose = 10\n",
    "    model_dict[key].return_train_score=True\n",
    "    model_dict[key].scoring = mse\n",
    "    #model_dict[key].n_jobs = -1"
   ]
  },
  {
   "cell_type": "markdown",
   "metadata": {},
   "source": [
    "## Models"
   ]
  },
  {
   "cell_type": "markdown",
   "metadata": {},
   "source": [
    "We gonna get the results from the models and use them as variables to the next level of the model and drop the others"
   ]
  },
  {
   "cell_type": "code",
   "execution_count": null,
   "metadata": {
    "scrolled": true
   },
   "outputs": [
    {
     "name": "stdout",
     "output_type": "stream",
     "text": [
      "-----------\n",
      "ElasticNet\n",
      "Fitting 2 folds for each of 25 candidates, totalling 50 fits\n",
      "[CV] alpha=0, l1_ratio=0 .............................................\n"
     ]
    },
    {
     "name": "stderr",
     "output_type": "stream",
     "text": [
      "[Parallel(n_jobs=1)]: Using backend SequentialBackend with 1 concurrent workers.\n"
     ]
    },
    {
     "name": "stdout",
     "output_type": "stream",
     "text": [
      "[CV]  alpha=0, l1_ratio=0, score=(train=-0.530, test=-0.526), total=   2.7s\n",
      "[CV] alpha=0, l1_ratio=0 .............................................\n"
     ]
    },
    {
     "name": "stderr",
     "output_type": "stream",
     "text": [
      "[Parallel(n_jobs=1)]: Done   1 out of   1 | elapsed:    2.6s remaining:    0.0s\n"
     ]
    },
    {
     "name": "stdout",
     "output_type": "stream",
     "text": [
      "[CV]  alpha=0, l1_ratio=0, score=(train=-0.526, test=-0.530), total=   2.6s\n",
      "[CV] alpha=0, l1_ratio=0.1 ...........................................\n"
     ]
    },
    {
     "name": "stderr",
     "output_type": "stream",
     "text": [
      "[Parallel(n_jobs=1)]: Done   2 out of   2 | elapsed:    5.2s remaining:    0.0s\n"
     ]
    },
    {
     "name": "stdout",
     "output_type": "stream",
     "text": [
      "[CV]  alpha=0, l1_ratio=0.1, score=(train=-0.530, test=-0.526), total=   2.6s\n",
      "[CV] alpha=0, l1_ratio=0.1 ...........................................\n"
     ]
    },
    {
     "name": "stderr",
     "output_type": "stream",
     "text": [
      "[Parallel(n_jobs=1)]: Done   3 out of   3 | elapsed:    7.8s remaining:    0.0s\n"
     ]
    },
    {
     "name": "stdout",
     "output_type": "stream",
     "text": [
      "[CV]  alpha=0, l1_ratio=0.1, score=(train=-0.526, test=-0.530), total=   2.6s\n",
      "[CV] alpha=0, l1_ratio=0.5 ...........................................\n"
     ]
    },
    {
     "name": "stderr",
     "output_type": "stream",
     "text": [
      "[Parallel(n_jobs=1)]: Done   4 out of   4 | elapsed:   10.4s remaining:    0.0s\n"
     ]
    },
    {
     "name": "stdout",
     "output_type": "stream",
     "text": [
      "[CV]  alpha=0, l1_ratio=0.5, score=(train=-0.530, test=-0.526), total=   2.7s\n",
      "[CV] alpha=0, l1_ratio=0.5 ...........................................\n"
     ]
    },
    {
     "name": "stderr",
     "output_type": "stream",
     "text": [
      "[Parallel(n_jobs=1)]: Done   5 out of   5 | elapsed:   13.1s remaining:    0.0s\n"
     ]
    },
    {
     "name": "stdout",
     "output_type": "stream",
     "text": [
      "[CV]  alpha=0, l1_ratio=0.5, score=(train=-0.526, test=-0.530), total=   2.6s\n",
      "[CV] alpha=0, l1_ratio=0.9 ...........................................\n"
     ]
    },
    {
     "name": "stderr",
     "output_type": "stream",
     "text": [
      "[Parallel(n_jobs=1)]: Done   6 out of   6 | elapsed:   15.7s remaining:    0.0s\n"
     ]
    },
    {
     "name": "stdout",
     "output_type": "stream",
     "text": [
      "[CV]  alpha=0, l1_ratio=0.9, score=(train=-0.530, test=-0.526), total=   2.6s\n",
      "[CV] alpha=0, l1_ratio=0.9 ...........................................\n"
     ]
    },
    {
     "name": "stderr",
     "output_type": "stream",
     "text": [
      "[Parallel(n_jobs=1)]: Done   7 out of   7 | elapsed:   18.3s remaining:    0.0s\n"
     ]
    },
    {
     "name": "stdout",
     "output_type": "stream",
     "text": [
      "[CV]  alpha=0, l1_ratio=0.9, score=(train=-0.526, test=-0.530), total=   2.5s\n",
      "[CV] alpha=0, l1_ratio=1 .............................................\n"
     ]
    },
    {
     "name": "stderr",
     "output_type": "stream",
     "text": [
      "[Parallel(n_jobs=1)]: Done   8 out of   8 | elapsed:   20.8s remaining:    0.0s\n"
     ]
    },
    {
     "name": "stdout",
     "output_type": "stream",
     "text": [
      "[CV]  alpha=0, l1_ratio=1, score=(train=-0.530, test=-0.526), total=   2.6s\n",
      "[CV] alpha=0, l1_ratio=1 .............................................\n"
     ]
    },
    {
     "name": "stderr",
     "output_type": "stream",
     "text": [
      "[Parallel(n_jobs=1)]: Done   9 out of   9 | elapsed:   23.5s remaining:    0.0s\n"
     ]
    },
    {
     "name": "stdout",
     "output_type": "stream",
     "text": [
      "[CV]  alpha=0, l1_ratio=1, score=(train=-0.526, test=-0.530), total=   2.6s\n",
      "[CV] alpha=0.1, l1_ratio=0 ...........................................\n",
      "[CV]  alpha=0.1, l1_ratio=0, score=(train=-0.535, test=-0.532), total=   2.6s\n",
      "[CV] alpha=0.1, l1_ratio=0 ...........................................\n",
      "[CV]  alpha=0.1, l1_ratio=0, score=(train=-0.532, test=-0.535), total=   2.6s\n",
      "[CV] alpha=0.1, l1_ratio=0.1 .........................................\n",
      "[CV]  alpha=0.1, l1_ratio=0.1, score=(train=-0.539, test=-0.537), total=   0.0s\n",
      "[CV] alpha=0.1, l1_ratio=0.1 .........................................\n",
      "[CV]  alpha=0.1, l1_ratio=0.1, score=(train=-0.537, test=-0.539), total=   0.0s\n",
      "[CV] alpha=0.1, l1_ratio=0.5 .........................................\n",
      "[CV]  alpha=0.1, l1_ratio=0.5, score=(train=-0.539, test=-0.537), total=   0.0s\n",
      "[CV] alpha=0.1, l1_ratio=0.5 .........................................\n",
      "[CV]  alpha=0.1, l1_ratio=0.5, score=(train=-0.537, test=-0.539), total=   0.0s\n",
      "[CV] alpha=0.1, l1_ratio=0.9 .........................................\n",
      "[CV]  alpha=0.1, l1_ratio=0.9, score=(train=-0.539, test=-0.537), total=   0.0s\n",
      "[CV] alpha=0.1, l1_ratio=0.9 .........................................\n",
      "[CV]  alpha=0.1, l1_ratio=0.9, score=(train=-0.537, test=-0.539), total=   0.0s\n",
      "[CV] alpha=0.1, l1_ratio=1 ...........................................\n",
      "[CV]  alpha=0.1, l1_ratio=1, score=(train=-0.539, test=-0.537), total=   0.0s\n",
      "[CV] alpha=0.1, l1_ratio=1 ...........................................\n",
      "[CV]  alpha=0.1, l1_ratio=1, score=(train=-0.537, test=-0.539), total=   0.0s\n",
      "[CV] alpha=0.5, l1_ratio=0 ...........................................\n",
      "[CV]  alpha=0.5, l1_ratio=0, score=(train=-0.538, test=-0.535), total=   2.6s\n",
      "[CV] alpha=0.5, l1_ratio=0 ...........................................\n",
      "[CV]  alpha=0.5, l1_ratio=0, score=(train=-0.535, test=-0.538), total=   2.6s\n",
      "[CV] alpha=0.5, l1_ratio=0.1 .........................................\n",
      "[CV]  alpha=0.5, l1_ratio=0.1, score=(train=-0.539, test=-0.537), total=   0.0s\n",
      "[CV] alpha=0.5, l1_ratio=0.1 .........................................\n",
      "[CV]  alpha=0.5, l1_ratio=0.1, score=(train=-0.537, test=-0.539), total=   0.0s\n",
      "[CV] alpha=0.5, l1_ratio=0.5 .........................................\n",
      "[CV]  alpha=0.5, l1_ratio=0.5, score=(train=-0.539, test=-0.537), total=   0.0s\n",
      "[CV] alpha=0.5, l1_ratio=0.5 .........................................\n",
      "[CV]  alpha=0.5, l1_ratio=0.5, score=(train=-0.537, test=-0.539), total=   0.1s\n",
      "[CV] alpha=0.5, l1_ratio=0.9 .........................................\n",
      "[CV]  alpha=0.5, l1_ratio=0.9, score=(train=-0.539, test=-0.537), total=   0.0s\n",
      "[CV] alpha=0.5, l1_ratio=0.9 .........................................\n",
      "[CV]  alpha=0.5, l1_ratio=0.9, score=(train=-0.537, test=-0.539), total=   0.0s\n",
      "[CV] alpha=0.5, l1_ratio=1 ...........................................\n",
      "[CV]  alpha=0.5, l1_ratio=1, score=(train=-0.539, test=-0.537), total=   0.1s\n",
      "[CV] alpha=0.5, l1_ratio=1 ...........................................\n",
      "[CV]  alpha=0.5, l1_ratio=1, score=(train=-0.537, test=-0.539), total=   0.0s\n",
      "[CV] alpha=0.9, l1_ratio=0 ...........................................\n",
      "[CV]  alpha=0.9, l1_ratio=0, score=(train=-0.538, test=-0.536), total=   2.6s\n",
      "[CV] alpha=0.9, l1_ratio=0 ...........................................\n",
      "[CV]  alpha=0.9, l1_ratio=0, score=(train=-0.536, test=-0.538), total=   2.6s\n",
      "[CV] alpha=0.9, l1_ratio=0.1 .........................................\n",
      "[CV]  alpha=0.9, l1_ratio=0.1, score=(train=-0.539, test=-0.537), total=   0.0s\n",
      "[CV] alpha=0.9, l1_ratio=0.1 .........................................\n",
      "[CV]  alpha=0.9, l1_ratio=0.1, score=(train=-0.537, test=-0.539), total=   0.0s\n",
      "[CV] alpha=0.9, l1_ratio=0.5 .........................................\n",
      "[CV]  alpha=0.9, l1_ratio=0.5, score=(train=-0.539, test=-0.537), total=   0.0s\n",
      "[CV] alpha=0.9, l1_ratio=0.5 .........................................\n",
      "[CV]  alpha=0.9, l1_ratio=0.5, score=(train=-0.537, test=-0.539), total=   0.0s\n",
      "[CV] alpha=0.9, l1_ratio=0.9 .........................................\n",
      "[CV]  alpha=0.9, l1_ratio=0.9, score=(train=-0.539, test=-0.537), total=   0.0s\n",
      "[CV] alpha=0.9, l1_ratio=0.9 .........................................\n",
      "[CV]  alpha=0.9, l1_ratio=0.9, score=(train=-0.537, test=-0.539), total=   0.0s\n",
      "[CV] alpha=0.9, l1_ratio=1 ...........................................\n",
      "[CV]  alpha=0.9, l1_ratio=1, score=(train=-0.539, test=-0.537), total=   0.0s\n",
      "[CV] alpha=0.9, l1_ratio=1 ...........................................\n",
      "[CV]  alpha=0.9, l1_ratio=1, score=(train=-0.537, test=-0.539), total=   0.1s\n",
      "[CV] alpha=1, l1_ratio=0 .............................................\n",
      "[CV]  alpha=1, l1_ratio=0, score=(train=-0.538, test=-0.536), total=   2.6s\n",
      "[CV] alpha=1, l1_ratio=0 .............................................\n",
      "[CV]  alpha=1, l1_ratio=0, score=(train=-0.536, test=-0.538), total=   2.6s\n",
      "[CV] alpha=1, l1_ratio=0.1 ...........................................\n",
      "[CV]  alpha=1, l1_ratio=0.1, score=(train=-0.539, test=-0.537), total=   0.0s\n",
      "[CV] alpha=1, l1_ratio=0.1 ...........................................\n",
      "[CV]  alpha=1, l1_ratio=0.1, score=(train=-0.537, test=-0.539), total=   0.0s\n",
      "[CV] alpha=1, l1_ratio=0.5 ...........................................\n",
      "[CV]  alpha=1, l1_ratio=0.5, score=(train=-0.539, test=-0.537), total=   0.0s\n",
      "[CV] alpha=1, l1_ratio=0.5 ...........................................\n",
      "[CV]  alpha=1, l1_ratio=0.5, score=(train=-0.537, test=-0.539), total=   0.0s\n",
      "[CV] alpha=1, l1_ratio=0.9 ...........................................\n",
      "[CV]  alpha=1, l1_ratio=0.9, score=(train=-0.539, test=-0.537), total=   0.0s\n",
      "[CV] alpha=1, l1_ratio=0.9 ...........................................\n",
      "[CV]  alpha=1, l1_ratio=0.9, score=(train=-0.537, test=-0.539), total=   0.0s\n",
      "[CV] alpha=1, l1_ratio=1 .............................................\n",
      "[CV]  alpha=1, l1_ratio=1, score=(train=-0.539, test=-0.537), total=   0.0s\n",
      "[CV] alpha=1, l1_ratio=1 .............................................\n",
      "[CV]  alpha=1, l1_ratio=1, score=(train=-0.537, test=-0.539), total=   0.0s\n"
     ]
    },
    {
     "name": "stderr",
     "output_type": "stream",
     "text": [
      "[Parallel(n_jobs=1)]: Done  50 out of  50 | elapsed:   48.8s finished\n"
     ]
    },
    {
     "name": "stdout",
     "output_type": "stream",
     "text": [
      "-----------\n",
      "DecisionTreeRegressor\n",
      "Fitting 2 folds for each of 12 candidates, totalling 24 fits\n",
      "[CV] max_depth=3, min_samples_split=2 ................................\n"
     ]
    },
    {
     "name": "stderr",
     "output_type": "stream",
     "text": [
      "[Parallel(n_jobs=1)]: Using backend SequentialBackend with 1 concurrent workers.\n"
     ]
    },
    {
     "name": "stdout",
     "output_type": "stream",
     "text": [
      "[CV]  max_depth=3, min_samples_split=2, score=(train=-0.529, test=-0.528), total=   0.8s\n",
      "[CV] max_depth=3, min_samples_split=2 ................................\n"
     ]
    },
    {
     "name": "stderr",
     "output_type": "stream",
     "text": [
      "[Parallel(n_jobs=1)]: Done   1 out of   1 | elapsed:    0.7s remaining:    0.0s\n"
     ]
    },
    {
     "name": "stdout",
     "output_type": "stream",
     "text": [
      "[CV]  max_depth=3, min_samples_split=2, score=(train=-0.527, test=-0.530), total=   0.8s\n",
      "[CV] max_depth=3, min_samples_split=50 ...............................\n"
     ]
    },
    {
     "name": "stderr",
     "output_type": "stream",
     "text": [
      "[Parallel(n_jobs=1)]: Done   2 out of   2 | elapsed:    1.5s remaining:    0.0s\n"
     ]
    },
    {
     "name": "stdout",
     "output_type": "stream",
     "text": [
      "[CV]  max_depth=3, min_samples_split=50, score=(train=-0.529, test=-0.528), total=   0.8s\n",
      "[CV] max_depth=3, min_samples_split=50 ...............................\n"
     ]
    },
    {
     "name": "stderr",
     "output_type": "stream",
     "text": [
      "[Parallel(n_jobs=1)]: Done   3 out of   3 | elapsed:    2.2s remaining:    0.0s\n"
     ]
    },
    {
     "name": "stdout",
     "output_type": "stream",
     "text": [
      "[CV]  max_depth=3, min_samples_split=50, score=(train=-0.527, test=-0.530), total=   0.8s\n",
      "[CV] max_depth=3, min_samples_split=300 ..............................\n"
     ]
    },
    {
     "name": "stderr",
     "output_type": "stream",
     "text": [
      "[Parallel(n_jobs=1)]: Done   4 out of   4 | elapsed:    3.1s remaining:    0.0s\n"
     ]
    },
    {
     "name": "stdout",
     "output_type": "stream",
     "text": [
      "[CV]  max_depth=3, min_samples_split=300, score=(train=-0.529, test=-0.528), total=   0.8s\n",
      "[CV] max_depth=3, min_samples_split=300 ..............................\n"
     ]
    },
    {
     "name": "stderr",
     "output_type": "stream",
     "text": [
      "[Parallel(n_jobs=1)]: Done   5 out of   5 | elapsed:    3.8s remaining:    0.0s\n"
     ]
    },
    {
     "name": "stdout",
     "output_type": "stream",
     "text": [
      "[CV]  max_depth=3, min_samples_split=300, score=(train=-0.527, test=-0.530), total=   0.7s\n",
      "[CV] max_depth=10, min_samples_split=2 ...............................\n"
     ]
    },
    {
     "name": "stderr",
     "output_type": "stream",
     "text": [
      "[Parallel(n_jobs=1)]: Done   6 out of   6 | elapsed:    4.6s remaining:    0.0s\n"
     ]
    },
    {
     "name": "stdout",
     "output_type": "stream",
     "text": [
      "[CV]  max_depth=10, min_samples_split=2, score=(train=-0.492, test=-0.528), total=   2.2s\n",
      "[CV] max_depth=10, min_samples_split=2 ...............................\n"
     ]
    },
    {
     "name": "stderr",
     "output_type": "stream",
     "text": [
      "[Parallel(n_jobs=1)]: Done   7 out of   7 | elapsed:    6.8s remaining:    0.0s\n"
     ]
    },
    {
     "name": "stdout",
     "output_type": "stream",
     "text": [
      "[CV]  max_depth=10, min_samples_split=2, score=(train=-0.489, test=-0.529), total=   2.4s\n",
      "[CV] max_depth=10, min_samples_split=50 ..............................\n"
     ]
    },
    {
     "name": "stderr",
     "output_type": "stream",
     "text": [
      "[Parallel(n_jobs=1)]: Done   8 out of   8 | elapsed:    9.2s remaining:    0.0s\n"
     ]
    },
    {
     "name": "stdout",
     "output_type": "stream",
     "text": [
      "[CV]  max_depth=10, min_samples_split=50, score=(train=-0.495, test=-0.525), total=   2.2s\n",
      "[CV] max_depth=10, min_samples_split=50 ..............................\n"
     ]
    },
    {
     "name": "stderr",
     "output_type": "stream",
     "text": [
      "[Parallel(n_jobs=1)]: Done   9 out of   9 | elapsed:   11.4s remaining:    0.0s\n"
     ]
    },
    {
     "name": "stdout",
     "output_type": "stream",
     "text": [
      "[CV]  max_depth=10, min_samples_split=50, score=(train=-0.492, test=-0.526), total=   2.3s\n",
      "[CV] max_depth=10, min_samples_split=300 .............................\n",
      "[CV]  max_depth=10, min_samples_split=300, score=(train=-0.501, test=-0.520), total=   2.3s\n",
      "[CV] max_depth=10, min_samples_split=300 .............................\n",
      "[CV]  max_depth=10, min_samples_split=300, score=(train=-0.498, test=-0.522), total=   2.1s\n",
      "[CV] max_depth=40, min_samples_split=2 ...............................\n",
      "[CV]  max_depth=40, min_samples_split=2, score=(train=-0.001, test=-1.018), total=   4.3s\n",
      "[CV] max_depth=40, min_samples_split=2 ...............................\n",
      "[CV]  max_depth=40, min_samples_split=2, score=(train=-0.001, test=-1.027), total=   4.1s\n",
      "[CV] max_depth=40, min_samples_split=50 ..............................\n",
      "[CV]  max_depth=40, min_samples_split=50, score=(train=-0.332, test=-0.674), total=   3.4s\n",
      "[CV] max_depth=40, min_samples_split=50 ..............................\n",
      "[CV]  max_depth=40, min_samples_split=50, score=(train=-0.331, test=-0.674), total=   3.4s\n",
      "[CV] max_depth=40, min_samples_split=300 .............................\n",
      "[CV]  max_depth=40, min_samples_split=300, score=(train=-0.466, test=-0.544), total=   3.0s\n",
      "[CV] max_depth=40, min_samples_split=300 .............................\n",
      "[CV]  max_depth=40, min_samples_split=300, score=(train=-0.462, test=-0.544), total=   2.9s\n",
      "[CV] max_depth=None, min_samples_split=2 .............................\n",
      "[CV]  max_depth=None, min_samples_split=2, score=(train=-0.000, test=-1.020), total=   4.1s\n",
      "[CV] max_depth=None, min_samples_split=2 .............................\n",
      "[CV]  max_depth=None, min_samples_split=2, score=(train=-0.000, test=-1.027), total=   4.1s\n",
      "[CV] max_depth=None, min_samples_split=50 ............................\n",
      "[CV]  max_depth=None, min_samples_split=50, score=(train=-0.331, test=-0.674), total=   3.5s\n",
      "[CV] max_depth=None, min_samples_split=50 ............................\n",
      "[CV]  max_depth=None, min_samples_split=50, score=(train=-0.331, test=-0.674), total=   3.5s\n",
      "[CV] max_depth=None, min_samples_split=300 ...........................\n",
      "[CV]  max_depth=None, min_samples_split=300, score=(train=-0.466, test=-0.544), total=   2.9s\n",
      "[CV] max_depth=None, min_samples_split=300 ...........................\n",
      "[CV]  max_depth=None, min_samples_split=300, score=(train=-0.462, test=-0.544), total=   2.9s\n"
     ]
    },
    {
     "name": "stderr",
     "output_type": "stream",
     "text": [
      "[Parallel(n_jobs=1)]: Done  24 out of  24 | elapsed:  1.0min finished\n"
     ]
    },
    {
     "name": "stdout",
     "output_type": "stream",
     "text": [
      "-----------\n",
      "RandomForestRegressor\n",
      "Fitting 2 folds for each of 12 candidates, totalling 24 fits\n",
      "[CV] max_depth=3, n_estimators=10 ....................................\n"
     ]
    },
    {
     "name": "stderr",
     "output_type": "stream",
     "text": [
      "[Parallel(n_jobs=1)]: Using backend SequentialBackend with 1 concurrent workers.\n"
     ]
    },
    {
     "name": "stdout",
     "output_type": "stream",
     "text": [
      "[CV]  max_depth=3, n_estimators=10, score=(train=-0.529, test=-0.527), total=   4.6s\n",
      "[CV] max_depth=3, n_estimators=10 ....................................\n"
     ]
    },
    {
     "name": "stderr",
     "output_type": "stream",
     "text": [
      "[Parallel(n_jobs=1)]: Done   1 out of   1 | elapsed:    4.5s remaining:    0.0s\n"
     ]
    },
    {
     "name": "stdout",
     "output_type": "stream",
     "text": [
      "[CV]  max_depth=3, n_estimators=10, score=(train=-0.526, test=-0.529), total=   4.6s\n",
      "[CV] max_depth=3, n_estimators=40 ....................................\n"
     ]
    },
    {
     "name": "stderr",
     "output_type": "stream",
     "text": [
      "[Parallel(n_jobs=1)]: Done   2 out of   2 | elapsed:    9.2s remaining:    0.0s\n"
     ]
    },
    {
     "name": "stdout",
     "output_type": "stream",
     "text": [
      "[CV]  max_depth=3, n_estimators=40, score=(train=-0.529, test=-0.527), total=  18.2s\n",
      "[CV] max_depth=3, n_estimators=40 ....................................\n"
     ]
    },
    {
     "name": "stderr",
     "output_type": "stream",
     "text": [
      "[Parallel(n_jobs=1)]: Done   3 out of   3 | elapsed:   27.6s remaining:    0.0s\n"
     ]
    },
    {
     "name": "stdout",
     "output_type": "stream",
     "text": [
      "[CV]  max_depth=3, n_estimators=40, score=(train=-0.526, test=-0.529), total=  17.9s\n",
      "[CV] max_depth=3, n_estimators=70 ....................................\n"
     ]
    },
    {
     "name": "stderr",
     "output_type": "stream",
     "text": [
      "[Parallel(n_jobs=1)]: Done   4 out of   4 | elapsed:   45.6s remaining:    0.0s\n"
     ]
    },
    {
     "name": "stdout",
     "output_type": "stream",
     "text": [
      "[CV]  max_depth=3, n_estimators=70, score=(train=-0.529, test=-0.527), total=  31.3s\n",
      "[CV] max_depth=3, n_estimators=70 ....................................\n"
     ]
    },
    {
     "name": "stderr",
     "output_type": "stream",
     "text": [
      "[Parallel(n_jobs=1)]: Done   5 out of   5 | elapsed:  1.3min remaining:    0.0s\n"
     ]
    },
    {
     "name": "stdout",
     "output_type": "stream",
     "text": [
      "[CV]  max_depth=3, n_estimators=70, score=(train=-0.526, test=-0.529), total=  31.3s\n",
      "[CV] max_depth=7, n_estimators=10 ....................................\n"
     ]
    },
    {
     "name": "stderr",
     "output_type": "stream",
     "text": [
      "[Parallel(n_jobs=1)]: Done   6 out of   6 | elapsed:  1.8min remaining:    0.0s\n"
     ]
    },
    {
     "name": "stdout",
     "output_type": "stream",
     "text": [
      "[CV]  max_depth=7, n_estimators=10, score=(train=-0.509, test=-0.514), total=  10.1s\n",
      "[CV] max_depth=7, n_estimators=10 ....................................\n"
     ]
    },
    {
     "name": "stderr",
     "output_type": "stream",
     "text": [
      "[Parallel(n_jobs=1)]: Done   7 out of   7 | elapsed:  2.0min remaining:    0.0s\n"
     ]
    },
    {
     "name": "stdout",
     "output_type": "stream",
     "text": [
      "[CV]  max_depth=7, n_estimators=10, score=(train=-0.506, test=-0.516), total=   9.6s\n",
      "[CV] max_depth=7, n_estimators=40 ....................................\n"
     ]
    },
    {
     "name": "stderr",
     "output_type": "stream",
     "text": [
      "[Parallel(n_jobs=1)]: Done   8 out of   8 | elapsed:  2.1min remaining:    0.0s\n"
     ]
    },
    {
     "name": "stdout",
     "output_type": "stream",
     "text": [
      "[CV]  max_depth=7, n_estimators=40, score=(train=-0.508, test=-0.514), total=  39.1s\n",
      "[CV] max_depth=7, n_estimators=40 ....................................\n"
     ]
    },
    {
     "name": "stderr",
     "output_type": "stream",
     "text": [
      "[Parallel(n_jobs=1)]: Done   9 out of   9 | elapsed:  2.8min remaining:    0.0s\n"
     ]
    },
    {
     "name": "stdout",
     "output_type": "stream",
     "text": [
      "[CV]  max_depth=7, n_estimators=40, score=(train=-0.505, test=-0.515), total=  38.2s\n",
      "[CV] max_depth=7, n_estimators=70 ....................................\n",
      "[CV]  max_depth=7, n_estimators=70, score=(train=-0.508, test=-0.513), total= 1.1min\n",
      "[CV] max_depth=7, n_estimators=70 ....................................\n",
      "[CV]  max_depth=7, n_estimators=70, score=(train=-0.505, test=-0.515), total= 1.2min\n",
      "[CV] max_depth=21, n_estimators=10 ...................................\n",
      "[CV]  max_depth=21, n_estimators=10, score=(train=-0.206, test=-0.533), total=  25.2s\n",
      "[CV] max_depth=21, n_estimators=10 ...................................\n",
      "[CV]  max_depth=21, n_estimators=10, score=(train=-0.200, test=-0.536), total=  24.3s\n",
      "[CV] max_depth=21, n_estimators=40 ...................................\n",
      "[CV]  max_depth=21, n_estimators=40, score=(train=-0.189, test=-0.507), total= 1.6min\n",
      "[CV] max_depth=21, n_estimators=40 ...................................\n",
      "[CV]  max_depth=21, n_estimators=40, score=(train=-0.184, test=-0.508), total= 1.5min\n",
      "[CV] max_depth=21, n_estimators=70 ...................................\n",
      "[CV]  max_depth=21, n_estimators=70, score=(train=-0.186, test=-0.504), total= 2.7min\n",
      "[CV] max_depth=21, n_estimators=70 ...................................\n",
      "[CV]  max_depth=21, n_estimators=70, score=(train=-0.182, test=-0.504), total= 2.6min\n",
      "[CV] max_depth=None, n_estimators=10 .................................\n",
      "[CV]  max_depth=None, n_estimators=10, score=(train=-0.099, test=-0.551), total=  25.5s\n",
      "[CV] max_depth=None, n_estimators=10 .................................\n",
      "[CV]  max_depth=None, n_estimators=10, score=(train=-0.098, test=-0.553), total=  25.6s\n",
      "[CV] max_depth=None, n_estimators=40 .................................\n",
      "[CV]  max_depth=None, n_estimators=40, score=(train=-0.076, test=-0.512), total= 1.7min\n",
      "[CV] max_depth=None, n_estimators=40 .................................\n",
      "[CV]  max_depth=None, n_estimators=40, score=(train=-0.075, test=-0.513), total= 1.6min\n",
      "[CV] max_depth=None, n_estimators=70 .................................\n",
      "[CV]  max_depth=None, n_estimators=70, score=(train=-0.072, test=-0.506), total= 2.8min\n",
      "[CV] max_depth=None, n_estimators=70 .................................\n",
      "[CV]  max_depth=None, n_estimators=70, score=(train=-0.072, test=-0.507), total= 2.8min\n"
     ]
    },
    {
     "name": "stderr",
     "output_type": "stream",
     "text": [
      "[Parallel(n_jobs=1)]: Done  24 out of  24 | elapsed: 25.2min finished\n"
     ]
    },
    {
     "name": "stdout",
     "output_type": "stream",
     "text": [
      "-----------\n",
      "MLPRegressor\n",
      "Fitting 2 folds for each of 6 candidates, totalling 12 fits\n",
      "[CV] activation=relu, alpha=0.01, early_stopping=True, hidden_layer_sizes=(100,) \n"
     ]
    },
    {
     "name": "stderr",
     "output_type": "stream",
     "text": [
      "[Parallel(n_jobs=1)]: Using backend SequentialBackend with 1 concurrent workers.\n"
     ]
    },
    {
     "name": "stdout",
     "output_type": "stream",
     "text": [
      "[CV]  activation=relu, alpha=0.01, early_stopping=True, hidden_layer_sizes=(100,), score=(train=-0.517, test=-0.515), total=  19.6s\n",
      "[CV] activation=relu, alpha=0.01, early_stopping=True, hidden_layer_sizes=(100,) \n"
     ]
    },
    {
     "name": "stderr",
     "output_type": "stream",
     "text": [
      "[Parallel(n_jobs=1)]: Done   1 out of   1 | elapsed:   19.8s remaining:    0.0s\n"
     ]
    },
    {
     "name": "stdout",
     "output_type": "stream",
     "text": [
      "[CV]  activation=relu, alpha=0.01, early_stopping=True, hidden_layer_sizes=(100,), score=(train=-0.512, test=-0.516), total=  42.0s\n",
      "[CV] activation=relu, alpha=0.01, early_stopping=True, hidden_layer_sizes=(40,) \n"
     ]
    },
    {
     "name": "stderr",
     "output_type": "stream",
     "text": [
      "[Parallel(n_jobs=1)]: Done   2 out of   2 | elapsed:  1.0min remaining:    0.0s\n"
     ]
    },
    {
     "name": "stdout",
     "output_type": "stream",
     "text": [
      "[CV]  activation=relu, alpha=0.01, early_stopping=True, hidden_layer_sizes=(40,), score=(train=-0.518, test=-0.516), total=  28.6s\n",
      "[CV] activation=relu, alpha=0.01, early_stopping=True, hidden_layer_sizes=(40,) \n"
     ]
    },
    {
     "name": "stderr",
     "output_type": "stream",
     "text": [
      "[Parallel(n_jobs=1)]: Done   3 out of   3 | elapsed:  1.5min remaining:    0.0s\n"
     ]
    },
    {
     "name": "stdout",
     "output_type": "stream",
     "text": [
      "[CV]  activation=relu, alpha=0.01, early_stopping=True, hidden_layer_sizes=(40,), score=(train=-0.516, test=-0.520), total=  13.8s\n",
      "[CV] activation=relu, alpha=0.01, early_stopping=True, hidden_layer_sizes=300 \n"
     ]
    },
    {
     "name": "stderr",
     "output_type": "stream",
     "text": [
      "[Parallel(n_jobs=1)]: Done   4 out of   4 | elapsed:  1.8min remaining:    0.0s\n"
     ]
    },
    {
     "name": "stdout",
     "output_type": "stream",
     "text": [
      "[CV]  activation=relu, alpha=0.01, early_stopping=True, hidden_layer_sizes=300, score=(train=-0.515, test=-0.514), total=  45.7s\n",
      "[CV] activation=relu, alpha=0.01, early_stopping=True, hidden_layer_sizes=300 \n"
     ]
    },
    {
     "name": "stderr",
     "output_type": "stream",
     "text": [
      "[Parallel(n_jobs=1)]: Done   5 out of   5 | elapsed:  2.5min remaining:    0.0s\n"
     ]
    },
    {
     "name": "stdout",
     "output_type": "stream",
     "text": [
      "[CV]  activation=relu, alpha=0.01, early_stopping=True, hidden_layer_sizes=300, score=(train=-0.509, test=-0.514), total= 2.1min\n",
      "[CV] activation=relu, alpha=0.001, early_stopping=True, hidden_layer_sizes=(100,) \n"
     ]
    },
    {
     "name": "stderr",
     "output_type": "stream",
     "text": [
      "[Parallel(n_jobs=1)]: Done   6 out of   6 | elapsed:  4.6min remaining:    0.0s\n"
     ]
    },
    {
     "name": "stdout",
     "output_type": "stream",
     "text": [
      "[CV]  activation=relu, alpha=0.001, early_stopping=True, hidden_layer_sizes=(100,), score=(train=-0.514, test=-0.514), total=  39.4s\n",
      "[CV] activation=relu, alpha=0.001, early_stopping=True, hidden_layer_sizes=(100,) \n"
     ]
    },
    {
     "name": "stderr",
     "output_type": "stream",
     "text": [
      "[Parallel(n_jobs=1)]: Done   7 out of   7 | elapsed:  5.3min remaining:    0.0s\n"
     ]
    },
    {
     "name": "stdout",
     "output_type": "stream",
     "text": [
      "[CV]  activation=relu, alpha=0.001, early_stopping=True, hidden_layer_sizes=(100,), score=(train=-0.511, test=-0.515), total=  55.7s\n",
      "[CV] activation=relu, alpha=0.001, early_stopping=True, hidden_layer_sizes=(40,) \n"
     ]
    },
    {
     "name": "stderr",
     "output_type": "stream",
     "text": [
      "[Parallel(n_jobs=1)]: Done   8 out of   8 | elapsed:  6.2min remaining:    0.0s\n"
     ]
    },
    {
     "name": "stdout",
     "output_type": "stream",
     "text": [
      "[CV]  activation=relu, alpha=0.001, early_stopping=True, hidden_layer_sizes=(40,), score=(train=-0.520, test=-0.518), total=  24.1s\n",
      "[CV] activation=relu, alpha=0.001, early_stopping=True, hidden_layer_sizes=(40,) \n"
     ]
    },
    {
     "name": "stderr",
     "output_type": "stream",
     "text": [
      "[Parallel(n_jobs=1)]: Done   9 out of   9 | elapsed:  6.6min remaining:    0.0s\n"
     ]
    },
    {
     "name": "stdout",
     "output_type": "stream",
     "text": [
      "[CV]  activation=relu, alpha=0.001, early_stopping=True, hidden_layer_sizes=(40,), score=(train=-0.518, test=-0.522), total=  20.5s\n",
      "[CV] activation=relu, alpha=0.001, early_stopping=True, hidden_layer_sizes=300 \n",
      "[CV]  activation=relu, alpha=0.001, early_stopping=True, hidden_layer_sizes=300, score=(train=-0.515, test=-0.513), total=  44.6s\n",
      "[CV] activation=relu, alpha=0.001, early_stopping=True, hidden_layer_sizes=300 \n",
      "[CV]  activation=relu, alpha=0.001, early_stopping=True, hidden_layer_sizes=300, score=(train=-0.508, test=-0.513), total= 1.9min\n"
     ]
    },
    {
     "name": "stderr",
     "output_type": "stream",
     "text": [
      "[Parallel(n_jobs=1)]: Done  12 out of  12 | elapsed:  9.7min finished\n"
     ]
    },
    {
     "name": "stdout",
     "output_type": "stream",
     "text": [
      "-----------\n",
      "HistGradientBoostingRegressor\n",
      "Fitting 2 folds for each of 16 candidates, totalling 32 fits\n",
      "[CV] l2_regularization=0.1, learning_rate=0.1, max_iter=10 ...........\n"
     ]
    },
    {
     "name": "stderr",
     "output_type": "stream",
     "text": [
      "[Parallel(n_jobs=1)]: Using backend SequentialBackend with 1 concurrent workers.\n"
     ]
    },
    {
     "name": "stdout",
     "output_type": "stream",
     "text": [
      "[CV]  l2_regularization=0.1, learning_rate=0.1, max_iter=10, score=(train=-0.517, test=-0.517), total=   0.4s\n",
      "[CV] l2_regularization=0.1, learning_rate=0.1, max_iter=10 ...........\n"
     ]
    },
    {
     "name": "stderr",
     "output_type": "stream",
     "text": [
      "[Parallel(n_jobs=1)]: Done   1 out of   1 | elapsed:    0.4s remaining:    0.0s\n"
     ]
    },
    {
     "name": "stdout",
     "output_type": "stream",
     "text": [
      "[CV]  l2_regularization=0.1, learning_rate=0.1, max_iter=10, score=(train=-0.515, test=-0.519), total=   0.4s\n",
      "[CV] l2_regularization=0.1, learning_rate=0.1, max_iter=30 ...........\n"
     ]
    },
    {
     "name": "stderr",
     "output_type": "stream",
     "text": [
      "[Parallel(n_jobs=1)]: Done   2 out of   2 | elapsed:    0.8s remaining:    0.0s\n"
     ]
    },
    {
     "name": "stdout",
     "output_type": "stream",
     "text": [
      "[CV]  l2_regularization=0.1, learning_rate=0.1, max_iter=30, score=(train=-0.501, test=-0.505), total=   0.7s\n",
      "[CV] l2_regularization=0.1, learning_rate=0.1, max_iter=30 ...........\n"
     ]
    },
    {
     "name": "stderr",
     "output_type": "stream",
     "text": [
      "[Parallel(n_jobs=1)]: Done   3 out of   3 | elapsed:    1.6s remaining:    0.0s\n"
     ]
    },
    {
     "name": "stdout",
     "output_type": "stream",
     "text": [
      "[CV]  l2_regularization=0.1, learning_rate=0.1, max_iter=30, score=(train=-0.498, test=-0.506), total=   0.7s\n",
      "[CV] l2_regularization=0.1, learning_rate=0.1, max_iter=100 ..........\n"
     ]
    },
    {
     "name": "stderr",
     "output_type": "stream",
     "text": [
      "[Parallel(n_jobs=1)]: Done   4 out of   4 | elapsed:    2.4s remaining:    0.0s\n"
     ]
    },
    {
     "name": "stdout",
     "output_type": "stream",
     "text": [
      "[CV]  l2_regularization=0.1, learning_rate=0.1, max_iter=100, score=(train=-0.478, test=-0.495), total=   1.5s\n",
      "[CV] l2_regularization=0.1, learning_rate=0.1, max_iter=100 ..........\n"
     ]
    },
    {
     "name": "stderr",
     "output_type": "stream",
     "text": [
      "[Parallel(n_jobs=1)]: Done   5 out of   5 | elapsed:    4.1s remaining:    0.0s\n"
     ]
    },
    {
     "name": "stdout",
     "output_type": "stream",
     "text": [
      "[CV]  l2_regularization=0.1, learning_rate=0.1, max_iter=100, score=(train=-0.476, test=-0.496), total=   1.6s\n",
      "[CV] l2_regularization=0.1, learning_rate=0.1, max_iter=300 ..........\n"
     ]
    },
    {
     "name": "stderr",
     "output_type": "stream",
     "text": [
      "[Parallel(n_jobs=1)]: Done   6 out of   6 | elapsed:    5.9s remaining:    0.0s\n"
     ]
    },
    {
     "name": "stdout",
     "output_type": "stream",
     "text": [
      "[CV]  l2_regularization=0.1, learning_rate=0.1, max_iter=300, score=(train=-0.444, test=-0.493), total=   3.8s\n",
      "[CV] l2_regularization=0.1, learning_rate=0.1, max_iter=300 ..........\n"
     ]
    },
    {
     "name": "stderr",
     "output_type": "stream",
     "text": [
      "[Parallel(n_jobs=1)]: Done   7 out of   7 | elapsed:   10.2s remaining:    0.0s\n"
     ]
    },
    {
     "name": "stdout",
     "output_type": "stream",
     "text": [
      "[CV]  l2_regularization=0.1, learning_rate=0.1, max_iter=300, score=(train=-0.442, test=-0.494), total=   4.1s\n",
      "[CV] l2_regularization=0.1, learning_rate=0.01, max_iter=10 ..........\n"
     ]
    },
    {
     "name": "stderr",
     "output_type": "stream",
     "text": [
      "[Parallel(n_jobs=1)]: Done   8 out of   8 | elapsed:   14.8s remaining:    0.0s\n"
     ]
    },
    {
     "name": "stdout",
     "output_type": "stream",
     "text": [
      "[CV]  l2_regularization=0.1, learning_rate=0.01, max_iter=10, score=(train=-0.536, test=-0.533), total=   0.4s\n",
      "[CV] l2_regularization=0.1, learning_rate=0.01, max_iter=10 ..........\n"
     ]
    },
    {
     "name": "stderr",
     "output_type": "stream",
     "text": [
      "[Parallel(n_jobs=1)]: Done   9 out of   9 | elapsed:   15.3s remaining:    0.0s\n"
     ]
    },
    {
     "name": "stdout",
     "output_type": "stream",
     "text": [
      "[CV]  l2_regularization=0.1, learning_rate=0.01, max_iter=10, score=(train=-0.533, test=-0.536), total=   0.5s\n",
      "[CV] l2_regularization=0.1, learning_rate=0.01, max_iter=30 ..........\n",
      "[CV]  l2_regularization=0.1, learning_rate=0.01, max_iter=30, score=(train=-0.530, test=-0.528), total=   0.8s\n",
      "[CV] l2_regularization=0.1, learning_rate=0.01, max_iter=30 ..........\n",
      "[CV]  l2_regularization=0.1, learning_rate=0.01, max_iter=30, score=(train=-0.527, test=-0.530), total=   0.8s\n",
      "[CV] l2_regularization=0.1, learning_rate=0.01, max_iter=100 .........\n",
      "[CV]  l2_regularization=0.1, learning_rate=0.01, max_iter=100, score=(train=-0.518, test=-0.518), total=   1.9s\n",
      "[CV] l2_regularization=0.1, learning_rate=0.01, max_iter=100 .........\n",
      "[CV]  l2_regularization=0.1, learning_rate=0.01, max_iter=100, score=(train=-0.515, test=-0.520), total=   2.0s\n",
      "[CV] l2_regularization=0.1, learning_rate=0.01, max_iter=300 .........\n",
      "[CV]  l2_regularization=0.1, learning_rate=0.01, max_iter=300, score=(train=-0.501, test=-0.505), total=   5.4s\n",
      "[CV] l2_regularization=0.1, learning_rate=0.01, max_iter=300 .........\n",
      "[CV]  l2_regularization=0.1, learning_rate=0.01, max_iter=300, score=(train=-0.498, test=-0.507), total=   6.2s\n",
      "[CV] l2_regularization=0.01, learning_rate=0.1, max_iter=10 ..........\n",
      "[CV]  l2_regularization=0.01, learning_rate=0.1, max_iter=10, score=(train=-0.517, test=-0.517), total=   0.4s\n",
      "[CV] l2_regularization=0.01, learning_rate=0.1, max_iter=10 ..........\n",
      "[CV]  l2_regularization=0.01, learning_rate=0.1, max_iter=10, score=(train=-0.515, test=-0.519), total=   0.6s\n",
      "[CV] l2_regularization=0.01, learning_rate=0.1, max_iter=30 ..........\n",
      "[CV]  l2_regularization=0.01, learning_rate=0.1, max_iter=30, score=(train=-0.501, test=-0.505), total=   0.8s\n",
      "[CV] l2_regularization=0.01, learning_rate=0.1, max_iter=30 ..........\n",
      "[CV]  l2_regularization=0.01, learning_rate=0.1, max_iter=30, score=(train=-0.498, test=-0.506), total=   0.8s\n",
      "[CV] l2_regularization=0.01, learning_rate=0.1, max_iter=100 .........\n",
      "[CV]  l2_regularization=0.01, learning_rate=0.1, max_iter=100, score=(train=-0.478, test=-0.495), total=   1.9s\n",
      "[CV] l2_regularization=0.01, learning_rate=0.1, max_iter=100 .........\n",
      "[CV]  l2_regularization=0.01, learning_rate=0.1, max_iter=100, score=(train=-0.476, test=-0.497), total=   2.1s\n",
      "[CV] l2_regularization=0.01, learning_rate=0.1, max_iter=300 .........\n",
      "[CV]  l2_regularization=0.01, learning_rate=0.1, max_iter=300, score=(train=-0.444, test=-0.493), total=   4.6s\n",
      "[CV] l2_regularization=0.01, learning_rate=0.1, max_iter=300 .........\n",
      "[CV]  l2_regularization=0.01, learning_rate=0.1, max_iter=300, score=(train=-0.442, test=-0.495), total=   4.5s\n",
      "[CV] l2_regularization=0.01, learning_rate=0.01, max_iter=10 .........\n",
      "[CV]  l2_regularization=0.01, learning_rate=0.01, max_iter=10, score=(train=-0.536, test=-0.533), total=   0.5s\n",
      "[CV] l2_regularization=0.01, learning_rate=0.01, max_iter=10 .........\n",
      "[CV]  l2_regularization=0.01, learning_rate=0.01, max_iter=10, score=(train=-0.533, test=-0.536), total=   0.5s\n",
      "[CV] l2_regularization=0.01, learning_rate=0.01, max_iter=30 .........\n",
      "[CV]  l2_regularization=0.01, learning_rate=0.01, max_iter=30, score=(train=-0.530, test=-0.528), total=   0.8s\n",
      "[CV] l2_regularization=0.01, learning_rate=0.01, max_iter=30 .........\n",
      "[CV]  l2_regularization=0.01, learning_rate=0.01, max_iter=30, score=(train=-0.527, test=-0.530), total=   0.8s\n",
      "[CV] l2_regularization=0.01, learning_rate=0.01, max_iter=100 ........\n",
      "[CV]  l2_regularization=0.01, learning_rate=0.01, max_iter=100, score=(train=-0.518, test=-0.518), total=   2.4s\n",
      "[CV] l2_regularization=0.01, learning_rate=0.01, max_iter=100 ........\n",
      "[CV]  l2_regularization=0.01, learning_rate=0.01, max_iter=100, score=(train=-0.515, test=-0.520), total=   2.7s\n",
      "[CV] l2_regularization=0.01, learning_rate=0.01, max_iter=300 ........\n",
      "[CV]  l2_regularization=0.01, learning_rate=0.01, max_iter=300, score=(train=-0.501, test=-0.505), total=   6.4s\n",
      "[CV] l2_regularization=0.01, learning_rate=0.01, max_iter=300 ........\n",
      "[CV]  l2_regularization=0.01, learning_rate=0.01, max_iter=300, score=(train=-0.498, test=-0.507), total=   7.1s\n"
     ]
    },
    {
     "name": "stderr",
     "output_type": "stream",
     "text": [
      "[Parallel(n_jobs=1)]: Done  32 out of  32 | elapsed:  1.3min finished\n"
     ]
    }
   ],
   "source": [
    "evaluation = pd.DataFrame()\n",
    "for key,item in model_dict.items():\n",
    "    print(\"-----------\")\n",
    "    print(key)\n",
    "    model_dict[key].fit(X_train,y_train)\n",
    "    results = pd.DataFrame(model_dict[key].cv_results_)\n",
    "    results['model'] = key\n",
    "    evaluation = evaluation.append(results)"
   ]
  },
  {
   "cell_type": "code",
   "execution_count": null,
   "metadata": {},
   "outputs": [],
   "source": [
    "best_models = evaluation.sort_values('rank_test_score',ascending=True)[['model','mean_train_score','mean_test_score']].drop_duplicates('model')\n",
    "best_models['mean_train_score'] = np.sqrt(np.abs(best_models['mean_train_score']))\n",
    "best_models['mean_test_score'] = np.sqrt(np.abs(best_models['mean_test_score']))\n",
    "best_models"
   ]
  },
  {
   "cell_type": "code",
   "execution_count": 52,
   "metadata": {},
   "outputs": [
    {
     "data": {
      "text/html": [
       "<div>\n",
       "<style scoped>\n",
       "    .dataframe tbody tr th:only-of-type {\n",
       "        vertical-align: middle;\n",
       "    }\n",
       "\n",
       "    .dataframe tbody tr th {\n",
       "        vertical-align: top;\n",
       "    }\n",
       "\n",
       "    .dataframe thead th {\n",
       "        text-align: right;\n",
       "    }\n",
       "</style>\n",
       "<table border=\"1\" class=\"dataframe\">\n",
       "  <thead>\n",
       "    <tr style=\"text-align: right;\">\n",
       "      <th></th>\n",
       "      <th>model</th>\n",
       "      <th>mean_train_score</th>\n",
       "      <th>mean_test_score</th>\n",
       "      <th>validation_score</th>\n",
       "    </tr>\n",
       "  </thead>\n",
       "  <tbody>\n",
       "    <tr>\n",
       "      <th>0</th>\n",
       "      <td>ElasticNet</td>\n",
       "      <td>0.685823</td>\n",
       "      <td>0.685961</td>\n",
       "      <td>0.681838</td>\n",
       "    </tr>\n",
       "    <tr>\n",
       "      <th>2</th>\n",
       "      <td>MLPRegressor</td>\n",
       "      <td>0.670922</td>\n",
       "      <td>0.678293</td>\n",
       "      <td>0.668398</td>\n",
       "    </tr>\n",
       "    <tr>\n",
       "      <th>11</th>\n",
       "      <td>HistGradientBoostingRegressor</td>\n",
       "      <td>0.644497</td>\n",
       "      <td>0.679450</td>\n",
       "      <td>0.654224</td>\n",
       "    </tr>\n",
       "    <tr>\n",
       "      <th>4</th>\n",
       "      <td>DecisionTreeRegressor</td>\n",
       "      <td>0.673250</td>\n",
       "      <td>0.691271</td>\n",
       "      <td>0.668840</td>\n",
       "    </tr>\n",
       "  </tbody>\n",
       "</table>\n",
       "</div>"
      ],
      "text/plain": [
       "                            model  mean_train_score  mean_test_score  \\\n",
       "0                      ElasticNet          0.685823         0.685961   \n",
       "2                    MLPRegressor          0.670922         0.678293   \n",
       "11  HistGradientBoostingRegressor          0.644497         0.679450   \n",
       "4           DecisionTreeRegressor          0.673250         0.691271   \n",
       "\n",
       "    validation_score  \n",
       "0           0.681838  \n",
       "2           0.668398  \n",
       "11          0.654224  \n",
       "4           0.668840  "
      ]
     },
     "execution_count": 52,
     "metadata": {},
     "output_type": "execute_result"
    }
   ],
   "source": [
    "for model_name in best_models['model']:\n",
    "    model_dict[model_name].best_estimator_.fit(x,y)\n",
    "best_models['validation_score'] = best_models['model'].apply(lambda model_name: np.sqrt(mean_squared_error(model_dict[model_name].best_estimator_.predict(X_test),y_test)))\n",
    "best_models"
   ]
  },
  {
   "cell_type": "markdown",
   "metadata": {},
   "source": [
    "## Feature Engineering 2"
   ]
  },
  {
   "cell_type": "code",
   "execution_count": null,
   "metadata": {},
   "outputs": [],
   "source": [
    "df_2 = df[['target']]\n",
    "for model_name in best_models['model']:\n",
    "    df_2[model_name] = model_dict[model_name].best_estimator_.predict(df.drop('target',axis=1))\n",
    "df_2.head(2)"
   ]
  },
  {
   "cell_type": "markdown",
   "metadata": {},
   "source": [
    "### Polynomial Features"
   ]
  },
  {
   "cell_type": "code",
   "execution_count": 61,
   "metadata": {},
   "outputs": [],
   "source": [
    "initial_cols = df_2.columns.drop('target')"
   ]
  },
  {
   "cell_type": "markdown",
   "metadata": {},
   "source": [
    "### Multiplied Features"
   ]
  },
  {
   "cell_type": "code",
   "execution_count": 63,
   "metadata": {},
   "outputs": [
    {
     "data": {
      "text/html": [
       "<div>\n",
       "<style scoped>\n",
       "    .dataframe tbody tr th:only-of-type {\n",
       "        vertical-align: middle;\n",
       "    }\n",
       "\n",
       "    .dataframe tbody tr th {\n",
       "        vertical-align: top;\n",
       "    }\n",
       "\n",
       "    .dataframe thead th {\n",
       "        text-align: right;\n",
       "    }\n",
       "</style>\n",
       "<table border=\"1\" class=\"dataframe\">\n",
       "  <thead>\n",
       "    <tr style=\"text-align: right;\">\n",
       "      <th></th>\n",
       "      <th>target</th>\n",
       "      <th>ElasticNet</th>\n",
       "      <th>MLPRegressor</th>\n",
       "      <th>HistGradientBoostingRegressor</th>\n",
       "      <th>DecisionTreeRegressor</th>\n",
       "      <th>ElasticNet_MLPRegressor</th>\n",
       "      <th>ElasticNet_HistGradientBoostingRegressor</th>\n",
       "      <th>ElasticNet_DecisionTreeRegressor</th>\n",
       "      <th>MLPRegressor_HistGradientBoostingRegressor</th>\n",
       "      <th>MLPRegressor_DecisionTreeRegressor</th>\n",
       "      <th>HistGradientBoostingRegressor_DecisionTreeRegressor</th>\n",
       "    </tr>\n",
       "    <tr>\n",
       "      <th>id</th>\n",
       "      <th></th>\n",
       "      <th></th>\n",
       "      <th></th>\n",
       "      <th></th>\n",
       "      <th></th>\n",
       "      <th></th>\n",
       "      <th></th>\n",
       "      <th></th>\n",
       "      <th></th>\n",
       "      <th></th>\n",
       "      <th></th>\n",
       "    </tr>\n",
       "  </thead>\n",
       "  <tbody>\n",
       "    <tr>\n",
       "      <th>1</th>\n",
       "      <td>7.243042</td>\n",
       "      <td>8.048565</td>\n",
       "      <td>7.776557</td>\n",
       "      <td>7.734894</td>\n",
       "      <td>7.768744</td>\n",
       "      <td>62.590126</td>\n",
       "      <td>62.254801</td>\n",
       "      <td>62.527244</td>\n",
       "      <td>60.150844</td>\n",
       "      <td>60.414080</td>\n",
       "      <td>60.090413</td>\n",
       "    </tr>\n",
       "    <tr>\n",
       "      <th>3</th>\n",
       "      <td>8.203331</td>\n",
       "      <td>7.995419</td>\n",
       "      <td>7.917932</td>\n",
       "      <td>8.016335</td>\n",
       "      <td>7.946278</td>\n",
       "      <td>63.307180</td>\n",
       "      <td>64.093956</td>\n",
       "      <td>63.533818</td>\n",
       "      <td>63.472793</td>\n",
       "      <td>62.918084</td>\n",
       "      <td>63.700024</td>\n",
       "    </tr>\n",
       "  </tbody>\n",
       "</table>\n",
       "</div>"
      ],
      "text/plain": [
       "      target  ElasticNet  MLPRegressor  HistGradientBoostingRegressor  \\\n",
       "id                                                                      \n",
       "1   7.243042    8.048565      7.776557                       7.734894   \n",
       "3   8.203331    7.995419      7.917932                       8.016335   \n",
       "\n",
       "    DecisionTreeRegressor  ElasticNet_MLPRegressor  \\\n",
       "id                                                   \n",
       "1                7.768744                62.590126   \n",
       "3                7.946278                63.307180   \n",
       "\n",
       "    ElasticNet_HistGradientBoostingRegressor  \\\n",
       "id                                             \n",
       "1                                  62.254801   \n",
       "3                                  64.093956   \n",
       "\n",
       "    ElasticNet_DecisionTreeRegressor  \\\n",
       "id                                     \n",
       "1                          62.527244   \n",
       "3                          63.533818   \n",
       "\n",
       "    MLPRegressor_HistGradientBoostingRegressor  \\\n",
       "id                                               \n",
       "1                                    60.150844   \n",
       "3                                    63.472793   \n",
       "\n",
       "    MLPRegressor_DecisionTreeRegressor  \\\n",
       "id                                       \n",
       "1                            60.414080   \n",
       "3                            62.918084   \n",
       "\n",
       "    HistGradientBoostingRegressor_DecisionTreeRegressor  \n",
       "id                                                       \n",
       "1                                           60.090413    \n",
       "3                                           63.700024    "
      ]
     },
     "execution_count": 63,
     "metadata": {},
     "output_type": "execute_result"
    }
   ],
   "source": [
    "from itertools import combinations\n",
    "\n",
    "for x,y in combinations(initial_cols,2):\n",
    "    df_2[f\"{x}_{y}\"] = df_2[x]*df_2[y]\n",
    "df_2.head(2)"
   ]
  },
  {
   "cell_type": "code",
   "execution_count": 64,
   "metadata": {},
   "outputs": [],
   "source": [
    "train = df_2.dropna()"
   ]
  },
  {
   "cell_type": "code",
   "execution_count": 69,
   "metadata": {},
   "outputs": [],
   "source": [
    "from sklearn.model_selection import KFold,GridSearchCV,train_test_split\n",
    "cv = KFold(3,shuffle=True,random_state=42)\n",
    "\n",
    "x = train.drop('target',axis=1)\n",
    "lvl2_scalerX = StandardScaler()\n",
    "x = pd.DataFrame(lvl2_scalerX.fit_transform(x),columns=x.columns)\n",
    "\n",
    "y = train['target']\n",
    "X_train, X_test, y_train, y_test = train_test_split(x, y, test_size=0.20, random_state=42)"
   ]
  },
  {
   "cell_type": "markdown",
   "metadata": {},
   "source": [
    "## Ensembles"
   ]
  },
  {
   "cell_type": "code",
   "execution_count": 70,
   "metadata": {},
   "outputs": [
    {
     "name": "stdout",
     "output_type": "stream",
     "text": [
      "-----------\n",
      "ElasticNet\n",
      "Fitting 3 folds for each of 25 candidates, totalling 75 fits\n"
     ]
    },
    {
     "name": "stderr",
     "output_type": "stream",
     "text": [
      "[Parallel(n_jobs=-1)]: Using backend LokyBackend with 4 concurrent workers.\n",
      "[Parallel(n_jobs=-1)]: Done   5 tasks      | elapsed:   27.2s\n",
      "[Parallel(n_jobs=-1)]: Done  10 tasks      | elapsed:   41.7s\n",
      "[Parallel(n_jobs=-1)]: Done  17 tasks      | elapsed:   57.0s\n",
      "[Parallel(n_jobs=-1)]: Done  24 tasks      | elapsed:   58.8s\n",
      "[Parallel(n_jobs=-1)]: Done  33 tasks      | elapsed:  1.2min\n",
      "[Parallel(n_jobs=-1)]: Done  42 tasks      | elapsed:  1.2min\n",
      "[Parallel(n_jobs=-1)]: Done  53 tasks      | elapsed:  1.5min\n",
      "[Parallel(n_jobs=-1)]: Done  64 tasks      | elapsed:  1.5min\n",
      "[Parallel(n_jobs=-1)]: Done  75 out of  75 | elapsed:  1.7min finished\n"
     ]
    },
    {
     "name": "stdout",
     "output_type": "stream",
     "text": [
      "-----------\n",
      "DecisionTreeRegressor\n",
      "Fitting 3 folds for each of 30 candidates, totalling 90 fits\n"
     ]
    },
    {
     "name": "stderr",
     "output_type": "stream",
     "text": [
      "[Parallel(n_jobs=-1)]: Using backend LokyBackend with 4 concurrent workers.\n",
      "[Parallel(n_jobs=-1)]: Done   5 tasks      | elapsed:    6.3s\n",
      "[Parallel(n_jobs=-1)]: Done  10 tasks      | elapsed:    9.2s\n",
      "[Parallel(n_jobs=-1)]: Done  17 tasks      | elapsed:   15.8s\n",
      "[Parallel(n_jobs=-1)]: Done  24 tasks      | elapsed:   21.6s\n",
      "[Parallel(n_jobs=-1)]: Done  33 tasks      | elapsed:   30.4s\n",
      "[Parallel(n_jobs=-1)]: Done  42 tasks      | elapsed:   38.1s\n",
      "[Parallel(n_jobs=-1)]: Done  53 tasks      | elapsed:   48.0s\n",
      "[Parallel(n_jobs=-1)]: Done  64 tasks      | elapsed:   57.9s\n",
      "[Parallel(n_jobs=-1)]: Done  77 tasks      | elapsed:  1.2min\n",
      "[Parallel(n_jobs=-1)]: Done  90 out of  90 | elapsed:  1.3min finished\n"
     ]
    },
    {
     "name": "stdout",
     "output_type": "stream",
     "text": [
      "-----------\n",
      "MLPRegressor\n",
      "Fitting 3 folds for each of 6 candidates, totalling 18 fits\n"
     ]
    },
    {
     "name": "stderr",
     "output_type": "stream",
     "text": [
      "[Parallel(n_jobs=-1)]: Using backend LokyBackend with 4 concurrent workers.\n",
      "[Parallel(n_jobs=-1)]: Done   5 tasks      | elapsed:   20.0s\n",
      "[Parallel(n_jobs=-1)]: Done  10 tasks      | elapsed:   42.5s\n",
      "[Parallel(n_jobs=-1)]: Done  13 out of  18 | elapsed:   53.4s remaining:   20.5s\n",
      "[Parallel(n_jobs=-1)]: Done  15 out of  18 | elapsed:   54.7s remaining:   10.9s\n",
      "[Parallel(n_jobs=-1)]: Done  18 out of  18 | elapsed:  1.2min finished\n"
     ]
    },
    {
     "name": "stdout",
     "output_type": "stream",
     "text": [
      "-----------\n",
      "HistGradientBoostingRegressor\n",
      "Fitting 3 folds for each of 16 candidates, totalling 48 fits\n"
     ]
    },
    {
     "name": "stderr",
     "output_type": "stream",
     "text": [
      "[Parallel(n_jobs=-1)]: Using backend LokyBackend with 4 concurrent workers.\n",
      "[Parallel(n_jobs=-1)]: Done   5 tasks      | elapsed:    2.1s\n",
      "[Parallel(n_jobs=-1)]: Done  10 tasks      | elapsed:    5.7s\n",
      "[Parallel(n_jobs=-1)]: Done  17 tasks      | elapsed:   10.1s\n",
      "[Parallel(n_jobs=-1)]: Done  24 tasks      | elapsed:   16.3s\n",
      "[Parallel(n_jobs=-1)]: Done  33 tasks      | elapsed:   26.1s\n",
      "[Parallel(n_jobs=-1)]: Done  46 out of  48 | elapsed:   42.5s remaining:    1.8s\n",
      "[Parallel(n_jobs=-1)]: Done  48 out of  48 | elapsed:   45.4s finished\n"
     ]
    }
   ],
   "source": [
    "evaluation = pd.DataFrame()\n",
    "for key,item in model_dict.items():\n",
    "    print(\"-----------\")\n",
    "    print(key)\n",
    "    model_dict[key].fit(X_train,y_train)\n",
    "    results = pd.DataFrame(model_dict[key].cv_results_)\n",
    "    results['model'] = key\n",
    "    evaluation = evaluation.append(results)"
   ]
  },
  {
   "cell_type": "markdown",
   "metadata": {},
   "source": [
    "## Model Evaluation"
   ]
  },
  {
   "cell_type": "code",
   "execution_count": 71,
   "metadata": {},
   "outputs": [
    {
     "data": {
      "text/html": [
       "<div>\n",
       "<style scoped>\n",
       "    .dataframe tbody tr th:only-of-type {\n",
       "        vertical-align: middle;\n",
       "    }\n",
       "\n",
       "    .dataframe tbody tr th {\n",
       "        vertical-align: top;\n",
       "    }\n",
       "\n",
       "    .dataframe thead th {\n",
       "        text-align: right;\n",
       "    }\n",
       "</style>\n",
       "<table border=\"1\" class=\"dataframe\">\n",
       "  <thead>\n",
       "    <tr style=\"text-align: right;\">\n",
       "      <th></th>\n",
       "      <th>model</th>\n",
       "      <th>mean_train_score</th>\n",
       "      <th>mean_test_score</th>\n",
       "    </tr>\n",
       "  </thead>\n",
       "  <tbody>\n",
       "    <tr>\n",
       "      <th>0</th>\n",
       "      <td>ElasticNet</td>\n",
       "      <td>0.684312</td>\n",
       "      <td>0.684331</td>\n",
       "    </tr>\n",
       "    <tr>\n",
       "      <th>0</th>\n",
       "      <td>MLPRegressor</td>\n",
       "      <td>0.683018</td>\n",
       "      <td>0.683488</td>\n",
       "    </tr>\n",
       "    <tr>\n",
       "      <th>10</th>\n",
       "      <td>HistGradientBoostingRegressor</td>\n",
       "      <td>0.675082</td>\n",
       "      <td>0.682917</td>\n",
       "    </tr>\n",
       "    <tr>\n",
       "      <th>4</th>\n",
       "      <td>DecisionTreeRegressor</td>\n",
       "      <td>0.674033</td>\n",
       "      <td>0.692343</td>\n",
       "    </tr>\n",
       "  </tbody>\n",
       "</table>\n",
       "</div>"
      ],
      "text/plain": [
       "                            model  mean_train_score  mean_test_score\n",
       "0                      ElasticNet          0.684312         0.684331\n",
       "0                    MLPRegressor          0.683018         0.683488\n",
       "10  HistGradientBoostingRegressor          0.675082         0.682917\n",
       "4           DecisionTreeRegressor          0.674033         0.692343"
      ]
     },
     "execution_count": 71,
     "metadata": {},
     "output_type": "execute_result"
    }
   ],
   "source": [
    "best_models = evaluation.sort_values('rank_test_score',ascending=True)[['model','mean_train_score','mean_test_score']].drop_duplicates('model')\n",
    "best_models['mean_train_score'] = np.sqrt(np.abs(best_models['mean_train_score']))\n",
    "best_models['mean_test_score'] = np.sqrt(np.abs(best_models['mean_test_score']))\n",
    "best_models"
   ]
  },
  {
   "cell_type": "code",
   "execution_count": 72,
   "metadata": {},
   "outputs": [
    {
     "data": {
      "text/html": [
       "<div>\n",
       "<style scoped>\n",
       "    .dataframe tbody tr th:only-of-type {\n",
       "        vertical-align: middle;\n",
       "    }\n",
       "\n",
       "    .dataframe tbody tr th {\n",
       "        vertical-align: top;\n",
       "    }\n",
       "\n",
       "    .dataframe thead th {\n",
       "        text-align: right;\n",
       "    }\n",
       "</style>\n",
       "<table border=\"1\" class=\"dataframe\">\n",
       "  <thead>\n",
       "    <tr style=\"text-align: right;\">\n",
       "      <th></th>\n",
       "      <th>model</th>\n",
       "      <th>mean_train_score</th>\n",
       "      <th>mean_test_score</th>\n",
       "      <th>validation_score</th>\n",
       "    </tr>\n",
       "  </thead>\n",
       "  <tbody>\n",
       "    <tr>\n",
       "      <th>0</th>\n",
       "      <td>ElasticNet</td>\n",
       "      <td>0.684312</td>\n",
       "      <td>0.684331</td>\n",
       "      <td>0.682021</td>\n",
       "    </tr>\n",
       "    <tr>\n",
       "      <th>0</th>\n",
       "      <td>MLPRegressor</td>\n",
       "      <td>0.683018</td>\n",
       "      <td>0.683488</td>\n",
       "      <td>0.680534</td>\n",
       "    </tr>\n",
       "    <tr>\n",
       "      <th>10</th>\n",
       "      <td>HistGradientBoostingRegressor</td>\n",
       "      <td>0.675082</td>\n",
       "      <td>0.682917</td>\n",
       "      <td>0.675497</td>\n",
       "    </tr>\n",
       "    <tr>\n",
       "      <th>4</th>\n",
       "      <td>DecisionTreeRegressor</td>\n",
       "      <td>0.674033</td>\n",
       "      <td>0.692343</td>\n",
       "      <td>0.671230</td>\n",
       "    </tr>\n",
       "  </tbody>\n",
       "</table>\n",
       "</div>"
      ],
      "text/plain": [
       "                            model  mean_train_score  mean_test_score  \\\n",
       "0                      ElasticNet          0.684312         0.684331   \n",
       "0                    MLPRegressor          0.683018         0.683488   \n",
       "10  HistGradientBoostingRegressor          0.675082         0.682917   \n",
       "4           DecisionTreeRegressor          0.674033         0.692343   \n",
       "\n",
       "    validation_score  \n",
       "0           0.682021  \n",
       "0           0.680534  \n",
       "10          0.675497  \n",
       "4           0.671230  "
      ]
     },
     "execution_count": 72,
     "metadata": {},
     "output_type": "execute_result"
    }
   ],
   "source": [
    "for model_name in best_models['model']:\n",
    "    model_dict[model_name].best_estimator_.fit(x,y)\n",
    "best_models['validation_score'] = best_models['model'].apply(lambda model_name: np.sqrt(mean_squared_error(model_dict[model_name].best_estimator_.predict(X_test),y_test)))\n",
    "best_models"
   ]
  },
  {
   "cell_type": "code",
   "execution_count": 80,
   "metadata": {},
   "outputs": [
    {
     "data": {
      "text/plain": [
       "<matplotlib.axes._subplots.AxesSubplot at 0x273079ba048>"
      ]
     },
     "execution_count": 80,
     "metadata": {},
     "output_type": "execute_result"
    },
    {
     "data": {
      "image/png": "[encoded data removed]",
      "text/plain": [
       "<Figure size 432x288 with 1 Axes>"
      ]
     },
     "metadata": {
      "needs_background": "light"
     },
     "output_type": "display_data"
    }
   ],
   "source": [
    "pd.Series(model_dict[model_name].best_estimator_.feature_importances_,x.columns).sort_values().plot(kind='bar')"
   ]
  },
  {
   "cell_type": "markdown",
   "metadata": {},
   "source": [
    "## Submissions output"
   ]
  },
  {
   "cell_type": "code",
   "execution_count": 92,
   "metadata": {},
   "outputs": [],
   "source": [
    "key = \"HistGradientBoostingRegressor\"\n",
    "test = df_2[df_2['target'].isna()].drop('target',axis=1)\n",
    "model = model_dict[key].best_estimator_\n",
    "submissions = pd.DataFrame(model.predict(lvl2_scalerX.transform(test)),columns=['target'],index=test.index)\n",
    "submissions.reset_index(inplace=True)\n",
    "submissions.to_csv(f'submissions/{key}.csv',index=False)"
   ]
  },
  {
   "cell_type": "code",
   "execution_count": 93,
   "metadata": {},
   "outputs": [
    {
     "data": {
      "text/html": [
       "<div>\n",
       "<style scoped>\n",
       "    .dataframe tbody tr th:only-of-type {\n",
       "        vertical-align: middle;\n",
       "    }\n",
       "\n",
       "    .dataframe tbody tr th {\n",
       "        vertical-align: top;\n",
       "    }\n",
       "\n",
       "    .dataframe thead th {\n",
       "        text-align: right;\n",
       "    }\n",
       "</style>\n",
       "<table border=\"1\" class=\"dataframe\">\n",
       "  <thead>\n",
       "    <tr style=\"text-align: right;\">\n",
       "      <th></th>\n",
       "      <th>id</th>\n",
       "      <th>target</th>\n",
       "    </tr>\n",
       "  </thead>\n",
       "  <tbody>\n",
       "    <tr>\n",
       "      <th>0</th>\n",
       "      <td>0</td>\n",
       "      <td>8.098475</td>\n",
       "    </tr>\n",
       "    <tr>\n",
       "      <th>1</th>\n",
       "      <td>2</td>\n",
       "      <td>7.668374</td>\n",
       "    </tr>\n",
       "    <tr>\n",
       "      <th>2</th>\n",
       "      <td>6</td>\n",
       "      <td>7.937966</td>\n",
       "    </tr>\n",
       "    <tr>\n",
       "      <th>3</th>\n",
       "      <td>7</td>\n",
       "      <td>8.149052</td>\n",
       "    </tr>\n",
       "    <tr>\n",
       "      <th>4</th>\n",
       "      <td>10</td>\n",
       "      <td>8.034140</td>\n",
       "    </tr>\n",
       "    <tr>\n",
       "      <th>...</th>\n",
       "      <td>...</td>\n",
       "      <td>...</td>\n",
       "    </tr>\n",
       "    <tr>\n",
       "      <th>199995</th>\n",
       "      <td>499984</td>\n",
       "      <td>7.924132</td>\n",
       "    </tr>\n",
       "    <tr>\n",
       "      <th>199996</th>\n",
       "      <td>499985</td>\n",
       "      <td>8.047434</td>\n",
       "    </tr>\n",
       "    <tr>\n",
       "      <th>199997</th>\n",
       "      <td>499987</td>\n",
       "      <td>8.106754</td>\n",
       "    </tr>\n",
       "    <tr>\n",
       "      <th>199998</th>\n",
       "      <td>499988</td>\n",
       "      <td>7.960806</td>\n",
       "    </tr>\n",
       "    <tr>\n",
       "      <th>199999</th>\n",
       "      <td>499990</td>\n",
       "      <td>8.150100</td>\n",
       "    </tr>\n",
       "  </tbody>\n",
       "</table>\n",
       "<p>200000 rows × 2 columns</p>\n",
       "</div>"
      ],
      "text/plain": [
       "            id    target\n",
       "0            0  8.098475\n",
       "1            2  7.668374\n",
       "2            6  7.937966\n",
       "3            7  8.149052\n",
       "4           10  8.034140\n",
       "...        ...       ...\n",
       "199995  499984  7.924132\n",
       "199996  499985  8.047434\n",
       "199997  499987  8.106754\n",
       "199998  499988  7.960806\n",
       "199999  499990  8.150100\n",
       "\n",
       "[200000 rows x 2 columns]"
      ]
     },
     "execution_count": 93,
     "metadata": {},
     "output_type": "execute_result"
    }
   ],
   "source": [
    "submissions"
   ]
  }
 ],
 "metadata": {
  "kernelspec": {
   "display_name": "Python 3",
   "language": "python",
   "name": "python3"
  },
  "language_info": {
   "codemirror_mode": {
    "name": "ipython",
    "version": 3
   },
   "file_extension": ".py",
   "mimetype": "text/x-python",
   "name": "python",
   "nbconvert_exporter": "python",
   "pygments_lexer": "ipython3",
   "version": "3.7.4"
  },
  "toc": {
   "base_numbering": 1,
   "nav_menu": {},
   "number_sections": true,
   "sideBar": true,
   "skip_h1_title": false,
   "title_cell": "Table of Contents",
   "title_sidebar": "Contents",
   "toc_cell": false,
   "toc_position": {},
   "toc_section_display": true,
   "toc_window_display": false
  }
 },
 "nbformat": 4,
 "nbformat_minor": 2
}
